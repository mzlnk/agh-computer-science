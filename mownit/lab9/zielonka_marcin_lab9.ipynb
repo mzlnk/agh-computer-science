{
 "cells": [
  {
   "cell_type": "markdown",
   "metadata": {},
   "source": [
    "##### Metody obliczeniowe w nauce i technice\n",
    "\n",
    "## Laboratorium 9 - Faktoryzacja QR\n",
    "\n",
    "### Sprawozdanie sporządził: Marcin Zielonka"
   ]
  },
  {
   "cell_type": "markdown",
   "metadata": {},
   "source": [
    "### Wstęp"
   ]
  },
  {
   "cell_type": "markdown",
   "metadata": {},
   "source": [
    "Do realizacji zadań skorzystam z gotowych funkcjonalności zawartych w bibliotekach:\n",
    "- `numpy` - wersja `1.18.2`\n",
    "- `matplotlib`\n",
    "- `scipy`"
   ]
  },
  {
   "cell_type": "code",
   "execution_count": 1,
   "metadata": {},
   "outputs": [],
   "source": [
    "import numpy as np\n",
    "from scipy.stats import ortho_group as og\n",
    "from matplotlib import pyplot as plt"
   ]
  },
  {
   "cell_type": "markdown",
   "metadata": {},
   "source": [
    "### Zadanie 1: Faktoryzacja QR metodą Grama-Schmidta"
   ]
  },
  {
   "cell_type": "markdown",
   "metadata": {},
   "source": [
    "Napisz funkcję dokonującą faktoryacji QR macierzy $\\mathbf{A}\\in\\mathbb{R}^{n\\times{n}}$, $\\mathbf{A}=[\\mathbf{a_1},\\mathbf{a_2},...,\\mathbf{a_n}]$ ($\\mathbf{a_i}$ to kolejne kolumny macierzy A) klasyczną metodą ortogonalizacji Grama-Schmidta."
   ]
  },
  {
   "cell_type": "markdown",
   "metadata": {},
   "source": [
    "Korzystając z zawartych zależności potrzebnych do napisania funkcji dokonującej faktoryzacji $QR$, tj:\n",
    "\n",
    "Dla $k=1$:\n",
    "$$\\mathbf{u_1}\\longleftarrow\\frac{\\mathbf{a_1}}{\\lVert\\mathbf{a_1}\\rVert}$$\n",
    "\n",
    "Dla $k>1$:\n",
    "$$\\mathbf{u_k}\\longleftarrow\\mathbf{a_k}-\\sum_{i=1}^{k-1}{\\langle\\mathbf{u_i},\\mathbf{a_k}\\rangle\\mathbf{u_i}}$$\n",
    "$$\\mathbf{u_k}\\longleftarrow\\frac{\\mathbf{u_k}}{\\lVert\\mathbf{u_k}\\rVert}$$\n",
    "\n",
    "Oraz:\n",
    "\n",
    "$$\\mathbf{Q}=[\\mathbf{u_1},\\mathbf{u_2},...,\\mathbf{u_n}]$$\n",
    "\n",
    "$$\n",
    "\\mathbf{R} = \n",
    "\\begin{bmatrix}\n",
    "\\langle\\mathbf{u_1},\\mathbf{a_1}\\rangle & \\langle\\mathbf{u_1},\\mathbf{a_2}\\rangle & \\langle\\mathbf{u_1},\\mathbf{a_3}\\rangle & \\cdots \\\\\n",
    "0 & \\langle\\mathbf{u_2},\\mathbf{a_2}\\rangle & \\langle\\mathbf{u_2},\\mathbf{a_3}\\rangle & \\cdots \\\\\n",
    "0 & 0 & \\langle\\mathbf{u_3},\\mathbf{a_3}\\rangle & \\cdots \\\\\n",
    "\\vdots & \\vdots & \\vdots & \\ddots \n",
    "\\end{bmatrix}\n",
    "$$\n",
    "\n",
    "\n",
    "Stworzyłem funkcję dokonującą ww. faktoryzację z wykorzystaniem funkcji dostępnych w bibliotece `numpy`:"
   ]
  },
  {
   "cell_type": "code",
   "execution_count": 2,
   "metadata": {},
   "outputs": [],
   "source": [
    "def qr_gram_schmidt(A):\n",
    "    m = len(A)\n",
    "    n = len(A.T)\n",
    "    \n",
    "    Q = np.zeros(n * m).reshape(n, m)\n",
    "    R = np.zeros(n * n).reshape(n, n)\n",
    "    \n",
    "    AT = A.T\n",
    "    \n",
    "    # k = 1:\n",
    "    Q[0] = AT[0] / np.linalg.norm(AT[0])\n",
    "    \n",
    "    # k > 1:\n",
    "    for k in range(1, n):\n",
    "        Q[k] = AT[k]\n",
    "        \n",
    "        for i in range(k):\n",
    "            Q[k] -= Q[i].dot(AT[k]) * Q[i]\n",
    "            \n",
    "        Q[k] = Q[k] / np.linalg.norm(Q[k])\n",
    "    \n",
    "    for i in range(n):\n",
    "        for j in range(n):\n",
    "            if i <= j:\n",
    "                R[i][j] = Q[i].dot(AT[j])\n",
    "    \n",
    "    return Q.T, R"
   ]
  },
  {
   "cell_type": "markdown",
   "metadata": {},
   "source": [
    "Przetestuj zaimplementowaną metodę porównując wyniki uzyskane z jej pomocą z wynikami zwracanymi przez funkcję biblioteczną. W testach wykorzystaj 4-5 macierzy losowych o różnym rozmiarze"
   ]
  },
  {
   "cell_type": "markdown",
   "metadata": {},
   "source": [
    "Funkcja biblioteczna `np.linalg.qr`, która została wykorzystana do sprawdzenia poprawności zaimplementowanej funkcji, zwraca w wynikowych macierzach $Q$ i $R$ wartości takie same jak zaimplementowana funkcja, jednakże o odwrotnym znaku (nie udało mi sie wyjaśnić dlaczego zachodzi taka sytuacja, jednakże porównując wynik zaimplementowanej funkcji dla przykładu ze strony https://pl.wikipedia.org/wiki/Rozk%C5%82ad_QR - jest on taki sam jak zamieszczony na wspomnianej stronie).\n",
    "\n",
    "Dlatego też przy pisaniu funkcji, która sprawdza poprawność wyników, objąłem wszystkie wartości w macierzach na moduł wartości bezwględnej, aby sprawdzić same wartości."
   ]
  },
  {
   "cell_type": "code",
   "execution_count": 3,
   "metadata": {},
   "outputs": [
    {
     "name": "stdout",
     "output_type": "stream",
     "text": [
      "matrix 10x10:\t True\n",
      "matrix 14x14:\t True\n",
      "matrix 14x14:\t True\n",
      "matrix 9x9:\t True\n",
      "matrix 7x7:\t True\n"
     ]
    }
   ],
   "source": [
    "for i in range(5):\n",
    "    n = np.random.randint(5, 20)\n",
    "    A = np.random.randint(40, size=(n, n))\n",
    "\n",
    "    Q1, R1 = qr_gram_schmidt(A)\n",
    "    Q2, R2 = np.linalg.qr(A)\n",
    "    \n",
    "    result = np.allclose(np.abs(Q1), np.abs(Q2)) and np.allclose(np.abs(R1), np.abs(R2))\n",
    "    \n",
    "    print(f'matrix {n}x{n}:\\t {result}')"
   ]
  },
  {
   "cell_type": "markdown",
   "metadata": {},
   "source": [
    "Jak widać, dla macierzy o losowych rozmiarach i losowych wartościach, wyniki dla obu funkcji są zgodne."
   ]
  },
  {
   "cell_type": "markdown",
   "metadata": {},
   "source": [
    "Wygeneruj 30-50 przykładowych macierzy $8\\times{8}$ o różnym wskaźniku uwarunkowania $\\mathbf{cond(A_i)}$ (stosunek największej do najmniejszej wartości osobliwej). Wykorzystaj w tym celu SVD oraz biblioteczną funkcję realizującą dekompozycję QR (potrzebne będą dwie losowe macierze ortogonalne oraz diagonalna macierz odpowiednio szybko malejących wartości osobliwych)."
   ]
  },
  {
   "cell_type": "markdown",
   "metadata": {},
   "source": [
    "W celu wygenerowania macierzy zgodnie z poleceniem, napisałem funkcję, która zwróci listę macierzy, w której każda kolejna macierz będzie miała wskaźnik uwarunkowania $\\mathbf{cond(A_i)}$ większy o $7$ od poprzedniej. Pierwsza macierz na liście będzie miała wartość wskaźnika uwarunkowania równą $17$.\n",
    "\n",
    "Aby osiągnąć zamerzony cel, wykorzystałem rozkład macierzy na wartości osobliwe SVD - a dokładniej zastosowałem proces odwrotny, aby uzyskać macierz na podstawie rozkładu.\n",
    "\n",
    "Na początku wygenerowałem listę $S$ wartości osobliwych, które rozkładają się równomiernie w danym przedziale uwarunkowanym danym dla $i$-tej macierzy wskaźnikiem uwarunkowania. Następnie utworzyłem macierz diagonalną $D$ na podstawie wartości osobliwych zawartych w liście $S$. \n",
    "\n",
    "Do wygenerowania losowych macierzy ortogonalnych wykorzystałem funkcję dostępną w module biblioteki `scipy` - `ortho_group.rvs`, która przyjmuje m.in parameter dim, dzięki któremu możemy ustalić rozmiar wynikowej macierzy.\n",
    "\n",
    "Następnie zbudowałem macierz $\\mathbf{A_i}$ zgodnie ze wzorem: $\\mathbf{A}=\\mathbf{U\\Sigma{V}}$"
   ]
  },
  {
   "cell_type": "code",
   "execution_count": 4,
   "metadata": {},
   "outputs": [],
   "source": [
    "def generate_matrixes(n):\n",
    "    result = []\n",
    "    \n",
    "    for i in range(n):\n",
    "        cond = 7 * (i + 1) + 10\n",
    "        \n",
    "        # singular values:\n",
    "        S = np.linspace(10, cond, 8)\n",
    "        \n",
    "        D = np.diag(S)\n",
    "        U = og.rvs(dim=8)\n",
    "        V = og.rvs(dim=8)\n",
    "        \n",
    "        result.append(np.dot(U, np.dot(D, V)))\n",
    "    \n",
    "    return result"
   ]
  },
  {
   "cell_type": "markdown",
   "metadata": {},
   "source": [
    "Następnie wywołałem funkcję, aby wygenerowaną listę macierzy wykorzystać w kolejnym zadaniu"
   ]
  },
  {
   "cell_type": "code",
   "execution_count": 5,
   "metadata": {},
   "outputs": [],
   "source": [
    "M = generate_matrixes(40)"
   ]
  },
  {
   "cell_type": "markdown",
   "metadata": {},
   "source": [
    "Dla każdej z uzyskanych w ten sposób macierzy $\\mathbf{A_i}$ wyznacz faktoryzację $QR$ korzystając z zaimplementowanej funkcji ($\\mathbf{A_i} = \\mathbf{Q_iR_i}$). Przedstaw zależność $\\lVert\\mathbf{I}−\\mathbf{Q}^T_i\\mathbf{Q}_i\\rVert$ od $\\mathbf{cond(A_i)}$."
   ]
  },
  {
   "cell_type": "markdown",
   "metadata": {},
   "source": [
    "W celu uzyskania wartości $\\mathbf{Q_i^T}$  oraz $\\mathbf{Q_i}$ wykorzystałem wcześniej zaimplementowaną funkcję do faktoryzacji $QR$, a do obliczenia współczynnika uwarunkowania $\\mathbf{cond(A_i)}$ wykorzystałem funkcję `np.linalg.svd`, która jest dostępna w bibliotece `numpy`.\n",
    "\n",
    "Do wyrysowania wykresu wykorzystałem bibliotekę `matplotlib`."
   ]
  },
  {
   "cell_type": "code",
   "execution_count": 6,
   "metadata": {},
   "outputs": [],
   "source": [
    "def show_relationship(M):\n",
    "    xs = []\n",
    "    ys = []\n",
    "    \n",
    "    I = np.ones(8 * 8).reshape(8, 8)\n",
    "    \n",
    "    for A in M:\n",
    "        Q, R = qr_gram_schmidt(A)\n",
    "        U, D, V = np.linalg.svd(A)\n",
    "        \n",
    "        xs.append((D[0] - D[7]))\n",
    "        ys.append(np.linalg.norm(I - np.dot(Q.T, Q)))\n",
    "    \n",
    "    plt.plot(xs, ys, 'bo', markersize=1)\n",
    "    plt.ylim(top=7.50)\n",
    "    plt.ylim(bottom=7.48)\n",
    "    plt.show()"
   ]
  },
  {
   "cell_type": "code",
   "execution_count": 7,
   "metadata": {},
   "outputs": [
    {
     "data": {
      "image/png": "[encoded data removed]",
      "text/plain": [
       "<Figure size 432x288 with 1 Axes>"
      ]
     },
     "metadata": {
      "needs_background": "light"
     },
     "output_type": "display_data"
    }
   ],
   "source": [
    "show_relationship(M)"
   ]
  },
  {
   "cell_type": "markdown",
   "metadata": {},
   "source": [
    "Zinterpretuj wyniki. Jaka jest przyczyna uzyskanych rozbieżności? Od czego zależy wielkość rozbieżności?"
   ]
  },
  {
   "cell_type": "markdown",
   "metadata": {},
   "source": [
    "Analizując wykres mozemy zauważyć, iż wartość $\\lVert\\mathbf{I}−\\mathbf{Q}^T_i\\mathbf{Q}_i\\rVert$ nie zależy od $\\mathbf{cond(A_i)}$ i utrzymuje się na stałym poziomie o wartości ok. $7.843$."
   ]
  },
  {
   "cell_type": "markdown",
   "metadata": {},
   "source": [
    "### Zadanie 2: Rozwiązywanie układów równań metodą QR"
   ]
  },
  {
   "cell_type": "markdown",
   "metadata": {},
   "source": [
    "Napisz funkcję rozwiązującą nadokreślony układ równań liniowych metodą $QR$ korzystając z własności macierzy ortogonalnych: $\\mathbf{A}^T=\\mathbf{A}^{−1}$, a także z mechanizmu *back substitution*. Następnie wykorzystaj ją do rozwiązania problemu aproksymacji średniokwadratowej dla zbioru punktów podanego tabeli poniżej. Przyjmij model postaci:\n",
    "\n",
    "$$f(x)=\\alpha_0+\\alpha_1x+\\alpha_2x^2$$\n",
    "\n",
    "Przedstaw wizualizację uzyskanego wyniku (punkty oraz funkcja aproksymująca $f$\n",
    "\n",
    "|x|-5|-4|-3|-2|-1|0 |1 |2 |3 |4 |5 |\n",
    "|-|--|--|--|--|--|--|--|--|--|--|--|\n",
    "|y|2 |7 |9 |12|13|14|14|13|10|8 |4 |"
   ]
  },
  {
   "cell_type": "markdown",
   "metadata": {},
   "source": [
    "Na początku umieściłem wartości $x$ i $y$ w odpowiednich zmiennych:"
   ]
  },
  {
   "cell_type": "code",
   "execution_count": 8,
   "metadata": {},
   "outputs": [],
   "source": [
    "xs = [-5, -4, -3, -2, -1, 0, 1, 2, 3, 4, 5]\n",
    "ys = [2, 7, 9, 12, 13, 14, 14, 13, 10, 8, 4]"
   ]
  },
  {
   "cell_type": "markdown",
   "metadata": {},
   "source": [
    "Następnie napisałem funkcję, która rozwiązuje nadokreślony układ równań liniowych metodą $QR$. Przy implementacji funkcji, wykorzystałem materiały dostępne pod adresem http://home.agh.edu.pl/~chwiej/mn/uarl_direct.pdf (strona 26 i 27), a dokładniej wyprowadzaną zależność:\n",
    "\n",
    "$$A\\mathbf{x}=\\mathbf{b} \\Rightarrow A^TA\\mathbf{x}=A^T\\mathbf{b}$$\n",
    "$$R^TQ^TQR\\mathbf{x}=R^TQ^T\\mathbf{x}$$\n",
    "$$Q^TQ=D \\Rightarrow R^TDR\\mathbf{x}=R^TQ^T\\mathbf{b}$$\n",
    "$$DR\\mathbf{x}=Q^T\\mathbf{b}$$"
   ]
  },
  {
   "cell_type": "code",
   "execution_count": 9,
   "metadata": {},
   "outputs": [],
   "source": [
    "def qr_solve(A, B):\n",
    "    Q, R = np.linalg.qr(A)\n",
    "    \n",
    "    QT = Q.T\n",
    "    RT = R.T\n",
    "    D = QT @ Q\n",
    "    \n",
    "    DR = D @ R\n",
    "    \n",
    "    QTB = QT @ np.array([B]).T\n",
    "    \n",
    "    return np.linalg.solve(DR, QTB)"
   ]
  },
  {
   "cell_type": "markdown",
   "metadata": {},
   "source": [
    "Nastepnie przygotowałem odpowiednio macierze $A$ i $B$ na podstawie punktów $x$ i $y$, tak aby można było przekazać je jako parametry zaimplmentowanej wcześniej funkcji:"
   ]
  },
  {
   "cell_type": "code",
   "execution_count": 10,
   "metadata": {},
   "outputs": [
    {
     "name": "stdout",
     "output_type": "stream",
     "text": [
      "[[13.97202797]\n",
      " [ 0.18181818]\n",
      " [-0.43356643]]\n"
     ]
    }
   ],
   "source": [
    "A = np.array([[1, x, x * x] for x in xs])\n",
    "B = ys\n",
    "\n",
    "X = qr_solve(A, B)\n",
    "\n",
    "print(X)"
   ]
  },
  {
   "cell_type": "markdown",
   "metadata": {},
   "source": [
    "Ostatecznie utworzyłem funkcję pomocniczą, która przy użyciu biblioteki `matplotlib` wyrysowuje punkty $(x,y)$ oraz wyznaczoną wcześniej funkcję"
   ]
  },
  {
   "cell_type": "code",
   "execution_count": 11,
   "metadata": {},
   "outputs": [],
   "source": [
    "def show_results(xs, ys, f):\n",
    "    ys_f = list(map(f, xs))\n",
    "    plt.plot(xs, ys, 'bo', markersize=3)\n",
    "    plt.plot(xs, ys_f, 'r')\n",
    "    \n",
    "    plt.show()\n",
    "    "
   ]
  },
  {
   "cell_type": "code",
   "execution_count": 12,
   "metadata": {},
   "outputs": [
    {
     "data": {
      "image/png": "[encoded data removed]",
      "text/plain": [
       "<Figure size 432x288 with 1 Axes>"
      ]
     },
     "metadata": {
      "needs_background": "light"
     },
     "output_type": "display_data"
    }
   ],
   "source": [
    "f = lambda x: 13.97202797 + 0.18181818 * x - 0.43356643 * x * x\n",
    "show_results(xs, ys, f)"
   ]
  },
  {
   "cell_type": "markdown",
   "metadata": {},
   "source": [
    "Jak widać zaimplentowana funkcja działa poprawnie, a dowodem na to jest fakt, iż otrzymana funkcja obejmuje każdy z punktów z bardzo małym błędem, co było istotą aproksymacji i rozwiązania układu nadokreślonego."
   ]
  }
 ],
 "metadata": {
  "kernelspec": {
   "display_name": "Python 3",
   "language": "python",
   "name": "python3"
  },
  "language_info": {
   "codemirror_mode": {
    "name": "ipython",
    "version": 3
   },
   "file_extension": ".py",
   "mimetype": "text/x-python",
   "name": "python",
   "nbconvert_exporter": "python",
   "pygments_lexer": "ipython3",
   "version": "3.7.5"
  }
 },
 "nbformat": 4,
 "nbformat_minor": 2
}
