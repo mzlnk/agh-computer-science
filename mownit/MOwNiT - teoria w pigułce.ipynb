{
 "cells": [
  {
   "cell_type": "markdown",
   "metadata": {},
   "source": [
    "# Arytmetyka obliczeniowa:"
   ]
  },
  {
   "cell_type": "markdown",
   "metadata": {},
   "source": [
    "## pojęcia wstępne\n",
    "\n",
    "**metody numeryczne** - sposoby rozwiązywania złożonych problemów matematycznych za pomocą podstawowych operacji arytmetycznych\n",
    "\n",
    "**kod U2** - kod uzupełnień do dwóch. System reprezentacji liczb całkowitych w dwójkowym systemie pozycyjnym. Na $n+1$ bitach reprezentowane są liczby z zakresu $[-2^n,2^n-1]$"
   ]
  },
  {
   "cell_type": "markdown",
   "metadata": {},
   "source": [
    "## reprezentacja zmiennopozycyjna\n",
    "\n",
    "**Ogólna reprezentacja:**\n",
    "\n",
    "$x = \\pm (\\frac{d_1}{\\beta}+\\frac{d_2}{\\beta^2}+...+\\frac{d_t}{\\beta^t}) * \\beta^e$\n",
    "\n",
    "- $d_i$ - liczba całkowita (dla systemu dwójkowego: 0 lub 1, dla systemu ósemkowego: 0-7, itd.)\n",
    "- $\\beta$ - podstawa (dla systemu dwójkowego: 2)\n",
    "- $e$ - cecha"
   ]
  },
  {
   "cell_type": "markdown",
   "metadata": {},
   "source": [
    "**Inny sposób reprezentacji:**\n",
    "\n",
    "$x = \\pm r*\\beta^n$\n",
    "\n",
    "- $r$ - mantysa\n",
    "- $n$ - cecha\n",
    "- $\\beta$ - podstawa"
   ]
  },
  {
   "cell_type": "markdown",
   "metadata": {},
   "source": [
    "**Liczba zmiennoprzecinkowa w systemie dwójkowym:**\n",
    "\n",
    "$x = \\pm q * 2^m$\n",
    "\n",
    "- $q \\in [1,2)$\n",
    "- $m$ - liczba całkowita"
   ]
  },
  {
   "cell_type": "markdown",
   "metadata": {},
   "source": [
    "**liczba maszynowa:**\n",
    "\n",
    "liczba, która można zapisać w komputerze przy ustalonych: cecha i mantysa - tj. taka liczba, która ma swój dokładny zapis w postaci dwójkowej (nie musi być przybliżana inną wartością)"
   ]
  },
  {
   "cell_type": "markdown",
   "metadata": {},
   "source": [
    "**maszynowe $\\epsilon$**\n",
    "\n",
    "najmniejsza liczb zmiennoprzecinkowa, dla której jeszcze zachodzi: $1+\\epsilon>1$. Wartość ta określa precyzję obliczeń numerycznych wykonywanych na liczbach zmiennoprzecinkowych"
   ]
  },
  {
   "cell_type": "markdown",
   "metadata": {},
   "source": [
    "## błąd reprezentacji zmiennoprzecinkowej:\n",
    "\n",
    "**założenia:**\n",
    "\n",
    "$x = s * 2^c * m$\n",
    "\n",
    "- $s$ - znak\n",
    "- $c$ - cecha\n",
    "- $m$ - mantysa"
   ]
  },
  {
   "cell_type": "markdown",
   "metadata": {},
   "source": [
    "**reprezentacja mantysy:**\n",
    "\n",
    "$\\sum_{i=1}^{t} {d_i * 2^{-i}}$"
   ]
  },
  {
   "cell_type": "markdown",
   "metadata": {},
   "source": [
    "**zaokrąglenie w dół:**\n",
    "\n",
    "Jeśli liczba jest bliżej do swojego zaokrąglenia w dół to pomijamy resztę bitów, które nie mieszczą się w reprezentacji mantysy."
   ]
  },
  {
   "cell_type": "markdown",
   "metadata": {},
   "source": [
    "**zaokrąglenie w górę:**\n",
    "\n",
    "Jeśli liczba jest bliżej do swojego zaokrąglenia w górę to dodajemy 1 do ostatniego bitu."
   ]
  },
  {
   "cell_type": "markdown",
   "metadata": {},
   "source": [
    "**błąd bezwględny:**\n",
    "\n",
    "W obu przypadkach zaokrąglania, błąd bezwględny wynosi: $m_t-m=2^{-(t+1)}$"
   ]
  },
  {
   "cell_type": "markdown",
   "metadata": {},
   "source": [
    "**błąd względny:**\n",
    "\n",
    "W obu przypadkach zaokrąglania, błąd względny wynosi: $|\\frac{m-m_t}{m}|\\leqslant\\frac{2{-(t+1)}}{\\frac{1}{2}}=2^{-t}$"
   ]
  },
  {
   "cell_type": "markdown",
   "metadata": {},
   "source": [
    "**ogólne oszacowanie względnej dokładności arytmetyki (nie tylko w systemie dwójkowym):**\n",
    "\n",
    "$|\\frac{fl(x)-x}{x}|\\leqslant\\frac{1}{2}\\beta^{1-t}$\n",
    "\n",
    "- $fl(x)$ - reprezentacja zmiennoprzecinkowa liczby $x$\n",
    "- $x$ - liczba rzeczywista z zakresu, który jest reprezentowany przez dany system (zależny od ilości bitów)\n",
    "- $\\beta^{1-t}$ - oszacowanie względnej dokładności ayrtmetyki"
   ]
  },
  {
   "cell_type": "markdown",
   "metadata": {},
   "source": [
    "**nadmiar:**\n",
    "\n",
    "inaczej *overflow*; występuje, gdy wartość bezwględna liczby jest za duża, aby ją reprezentować (nie można zwiększać cechy, bo brakuje bitów)"
   ]
  },
  {
   "cell_type": "markdown",
   "metadata": {},
   "source": [
    "**niedomiar:**\n",
    "\n",
    "inaczej *underflow*; występuje, gdy wartość bezwględna liczby jest za mała, aby ją reprezentować (nie można już zmniejszać cechy, bo brakuje bitów)"
   ]
  },
  {
   "cell_type": "markdown",
   "metadata": {},
   "source": [
    "**błedy obcięcia:**\n",
    "\n",
    "- występują, gdy powinnismy wykonać nieskończony ciąg obliczeń\n",
    "- w praktyce taki ciąg musi być skończony (obcięty)\n",
    "- przykłady:\n",
    "    - ograniczenie szeregu nieskończonego do skończonej liczby składników\n",
    "    - aproksymacja pochodnej za pomocą ilorazu różnicowego"
   ]
  },
  {
   "cell_type": "markdown",
   "metadata": {},
   "source": [
    "## algorytmy w arytmetyce zmiennopozycyjnej:\n",
    "\n",
    "**oznaczenia:**\n",
    "\n",
    "- $\\vec{d}$ - dane rzeczywiste\n",
    "- $\\vec{w}$ - wynik rzeczywisty\n",
    "- $\\varphi$ - funkcja, która przyjmuje dane i zwraca wynik\n",
    "- $\\tilde{d}$ - zaburzone dane\n",
    "- $\\hat{d}$ - zaburzone dane na poziomie reprezentacji\n",
    "- $\\tilde{w}$ - zaburzone na poziomie reprezentacji danych rozwiązanie dla zaburzonych danych\n",
    "- $A$ - algorytm, sposób wyznaczenia wyniku $\\vec{w}$ w zwykłej arytmetyce\n",
    "- $rd(x)$ - reprezentacja wartości w arytmetyce float\n",
    "\n",
    "Zatem:\n",
    "\n",
    "- $\\vec{w}=\\varphi(\\vec{d})$ - dokładne rozwiązanie dla dokładnych (idealnie) danych\n",
    "- $\\hat{w}=\\varphi(\\hat{d})$ - dokładne rozwiązanie dla zaburzonych danych"
   ]
  },
  {
   "cell_type": "markdown",
   "metadata": {},
   "source": [
    "**optymalny poziom błędu rozwiązania:**\n",
    "\n",
    "$P(\\vec{d},\\varphi)$; poziom ten wynika wyłącznie z przeniesienia błędu reprezentacji danych na wynik obliczeń"
   ]
  },
  {
   "cell_type": "markdown",
   "metadata": {},
   "source": [
    "**uwarunkowanie zadania:**\n",
    "\n",
    "czułość na zaburzenie danych"
   ]
  },
  {
   "cell_type": "markdown",
   "metadata": {},
   "source": [
    "**wskaźniki uwarunkowania zadania**:\n",
    "\n",
    "- wielkość charakteryzująca wpływ zaburzeń danych zadania na zaburzenie jego rozwiązania\n",
    "- oznaczany jako $cond(\\varphi(x))$\n",
    "\n",
    "może być określany jako:\n",
    "$cond(\\varphi(x))=\\lim_{x^*\\to{x}} \\frac{|\\frac{f(x)-f(x^*)}{f(x)}|}{\\frac{x-x^*}{x}}$"
   ]
  },
  {
   "cell_type": "markdown",
   "metadata": {},
   "source": [
    "**zadanie źle uwarunkowane:**\n",
    "\n",
    "- niewielkie względne zmiany danych zadania powodują duże względne zmiany jego rozwiązania\n",
    "- jeśli dane znamy z błędem względnym nie większym niż $\\epsilon$ to błąd względny wyniku obliczenia nie jest większy niż $\\epsilon * cond(\\varphi(x))$\n",
    "- przykład:\n",
    "    - $cond(\\varphi(x))=100$\n",
    "    - $\\epsilon=2^{-23}\\approx10^{-7}$\n",
    "    - błąd względny wyniku nie może być większy niż $10^{-7}*100=10^5$"
   ]
  },
  {
   "cell_type": "markdown",
   "metadata": {},
   "source": [
    "**algorytmy numerycznie poprawne:**\n",
    "\n",
    "takie, które dają rozwiązania będące nieco zaburzonym dokładnym rozwiązaniem zadania o nieco zaburzonych danych. Są to algorytmy najwyższej jakości"
   ]
  },
  {
   "cell_type": "markdown",
   "metadata": {},
   "source": [
    "**dane nieco zaburzone:**\n",
    "\n",
    "dane zaburzone na poziomie reprezentacji"
   ]
  },
  {
   "cell_type": "markdown",
   "metadata": {},
   "source": [
    "\\newpage"
   ]
  },
  {
   "cell_type": "markdown",
   "metadata": {},
   "source": [
    "**stabilność numeryczna:**\n",
    "\n",
    "- algorytmy numerycznie poprawne to algorytmy najwyższej jakości\n",
    "- udowodnienie numerycznej poprawności algorytmu jest często trudne, wymaga znalezienie wskazników kumulacji niezależnych od danych\n",
    "- można spróbować zbadać stabilność (słabszy warunek)\n",
    "- stabilność to minimalny wymóg dla algorytmu\n",
    "- badamy, jak duży byłby błąd wyniku, gdyby dane oraz wynik zostały zaburzone na poziomie reprezentacji, ale same obliczenia byłyby wykonywane dokładnie"
   ]
  },
  {
   "cell_type": "markdown",
   "metadata": {},
   "source": [
    "**metoda numerycznie stabilna:**\n",
    "\n",
    "metoda numeryczna, w której mały błąd na dowolnym etapie przenosi się dalej z malejącą amplitudą (tj. nie zwiększa się w kolejnych etapach obliczeń)"
   ]
  },
  {
   "cell_type": "markdown",
   "metadata": {},
   "source": [
    "**algorytm numerycznie stabilny:**\n",
    "\n",
    "algorytm, dla którego istnieje stała $K$ (o małej wartości), dla której dla każdej dostatecznie silnej arytmetyki zachodzi:\n",
    "\n",
    "$\\lVert\\varphi(\\vec{d})-fl(A(\\vec{d}))\\rVert\\leqslant K*P(\\vec{d},\\varphi)$\n",
    "\n",
    "Algorytm numerycznie stabilny gwarantuje uzyskanie rozwiązania z błędem co najwyżej $K$ razy większym, niż optymalny poziom błędu rozwiązania tego zadania"
   ]
  },
  {
   "cell_type": "markdown",
   "metadata": {},
   "source": [
    "\\newpage"
   ]
  },
  {
   "cell_type": "markdown",
   "metadata": {},
   "source": [
    "# Interpolacja"
   ]
  },
  {
   "cell_type": "markdown",
   "metadata": {},
   "source": [
    "## Klasy funkcji interpolujących\n",
    "\n",
    "Funkcje o „rozsądnym przebiegu między węzłami”, istotna jest m.in.:\n",
    "\n",
    "- gładkość\n",
    "- prostota\n",
    "\n",
    "Przykłady takich funkcji:\n",
    "\n",
    "- wielomiany algebraiczne\n",
    "- wielomiany trygonometryczne\n",
    "- funkcje wymierne\n",
    "- funkcje sklejane (*spline*)"
   ]
  },
  {
   "cell_type": "markdown",
   "metadata": {},
   "source": [
    "## Przydatność interpolacji\n",
    "\n",
    "- zagęszczenie tablic (zamiast długiej tablicy krótka tablica + krótka procedura interpolacyjna)\n",
    "- zastępowanie skomplikowanych funkcji np. wielomianami\n",
    "- znajdowanie $f^{(k)}(x)$ w punktach pośrednich\n",
    "- całkowanie numeryczne\n",
    "- rozwiązywanie równiań różniczkowych\n",
    "- interpolacja odwrotna: wyznaczanie $x$, któremu odpowiada $y=f(x)$ nie występująca w tablicy\n",
    "- łatwość obliczeń: $+,*,\\frac{d}{dx},\\int dx$, itd."
   ]
  },
  {
   "cell_type": "markdown",
   "metadata": {},
   "source": [
    "## Twierdzenie Weierstrassa\n",
    "\n",
    "Dla dowolnej $f(x)$ ciągłej na $[a,b]$ (skończonym) i każdego $\\epsilon>0$ istnieje wielomian $W_n$, $n=n(\\epsilon)$ taki, że:\n",
    "\n",
    "$$\\max_{x\\in[a,b]}|f(x)-W_n(x)|<\\epsilon$$"
   ]
  },
  {
   "cell_type": "markdown",
   "metadata": {},
   "source": [
    "## Twierdzenie Rolle'a\n",
    "\n",
    "założenia:\n",
    "\n",
    "1. $f \\in C[a,b]$\n",
    "2. $f \\in C^n(a,b)$\n",
    "3. $f=0$ w $n+1$ różnych punktach\n",
    "\n",
    "teza:\n",
    "\n",
    "$\\exists c \\in (a,b):f^{(n)}(c)=0$"
   ]
  },
  {
   "cell_type": "markdown",
   "metadata": {},
   "source": [
    "## Postać naturalna wielomianu\n",
    "\n",
    "$W(x)=\\sum_{i=0}^{n}{a_ix^i}$, $a_i=\\frac{W^{(i)}(0)}{i!}$\n",
    "\n",
    "- postać naturalna - rozwinięcie Maclaurina\n",
    "- $a_i$ - znormalizowane pochodne"
   ]
  },
  {
   "cell_type": "markdown",
   "metadata": {},
   "source": [
    "## Algorytm W.G. Hornera\n",
    "\n",
    "Algorytm służący do wyliczania za pomocą $n$ mnożeń i $n$ dodawań wartości wielomianu $n$ stopnia dla zadanego $x$.\n",
    "\n",
    "Mając wielomian w postaci ogólnej:\n",
    "\n",
    "$W(x)=a_0+a_1x+a_2x^2+...a_nx^n$\n",
    "\n",
    "Możemy przekształcić go do postaci:\n",
    "\n",
    "$W(x)=a_0+x(a_1+x(a_2+..+x(a_{n-1}+xa_n)...))$\n",
    "\n",
    "lub zapisując inaczej:\n",
    "\n",
    "- $W_n=a_n$\n",
    "- $W_i=W_{i+1}x+a_i$, $i=n-1,n-2,...,0$\n",
    "- $W(x)=W_0$\n",
    "\n",
    "przykład:\n",
    "\n",
    "$W(x)=2x^4-5x^2+4x+1=x(x(x(x\\cdot2+0)-5)+4)+1$"
   ]
  },
  {
   "cell_type": "markdown",
   "metadata": {},
   "source": [
    "## Postać Newtona\n",
    "\n",
    "Jedna z metod przedstawiania wielomianu. Dla wielomianu stopnia $n$ wybiera się $n+1$ punktów $x_0,x_1,...x_n$ i buduje wielomian postaci:\n",
    "\n",
    "$W(x)=a_0+\\sum_{i=1}^{n}{a_i\\prod_{k=0}^{k-1}{x-x_k}}=a_0+a_1(x-x_0)+a_2+(x-x_1)(x-x_0)+...+a_n(x-x_{n-1})...(x-x_1)(x-x_0)$"
   ]
  },
  {
   "cell_type": "markdown",
   "metadata": {},
   "source": [
    "## Interpolacja Langrage'a\n",
    "\n",
    "Wielomian przyjmujący zadane wartości w konkretnych punktach można zbudować w następujący sposób:\n",
    "\n",
    "1. Dla pierwszego węzła o wartości $f(x_0)$ znajduje się wielomian, który w tym punkcie przyjmuje wartość $f(x_0)$, a w pozostałych węzłach $x_1,x_2,...,x_n$ wartość zero\n",
    "2. Dla kolejnego węzła znajduje się podobny wielomian, który w drugim węźle przyjmuje wartość $f(x_1)$ a w pozostałych węzłach $x_0,x_2,...,x_n$ wartość zero.\n",
    "3. Dodaje się wartość ostatnio obliczonego wielomianu do wartości poprzedniego.\n",
    "4. Dla każdego z pozostałych węzłów znajduje się podobny wielomian, za każdym razem dodając go do wielomianu wynikowego.\n",
    "5. Wielomian będący sumą wielomianów obliczonych dla poszczególnych węzłów jest wielomianem interpolującym.\n",
    "\n",
    "\\newpage\n",
    "\n",
    "**Wielomian Langrage'a:**\n",
    "\n",
    "Postać Lagrange’a wielomianu to jedna z metod przedstawiania wielomianu, wykorzystywana często w zagadnieniach interpolacji. Dla wielomianu stopnia $n$ wybiera się $n+1$ punktów – $x_0,x_1,...,x_n$ i wielomian ma postać:\n",
    "\n",
    "$W(x)=\\sum_{i=0}^{n}{f(x_i)}\\prod_{j=0\\wedge{j}\\neq{i}}^{n}{\\frac{x-x_j}{x_i-x_j}}$\n",
    "\n",
    "Można zauważyć, że: $\\prod_{j=0\\wedge{j}\\neq{i}}^{n}{\\frac{x-x_j}{x_i-x_j}}$ jest równy $1$ dla $x$ równego $x_i$ (licznik i mianownik sa równe), $0$ zaś wszystkich innych $x_j$ (licznik jest równy $0$).\n",
    "\n",
    "Dlatego też można łatwo za pomocą postaci Langrage'a interpolować dowolną funkcję:\n",
    "\n",
    "$L_f(x)=\\sum_{i=0}^{n}{f(x_i)}\\prod_{j=0\\wedge{j}\\neq{i}}^{n}{\\frac{x-x_j}{x_i-x_j}}$\n",
    "\n",
    "Wielomian ten będzie się zgadzał z funkcją $f$ we wszystkich punktach $x_i$.\n",
    "\n",
    "\n",
    "**błąd interpolacji Langrage'a:**\n",
    "\n",
    "$f(x)=P_n(x)+\\frac{f^{(n+1)}(\\eta)}{(n+1)!}\\prod_{i=0}^{n}{(x-x_i)}$\n",
    "\n",
    "- $\\eta$ - liczba zależna od $x$ oraz $\\eta\\in{(a,b)}$\n",
    "- $\\prod_{i=0}^{n}{(x-x_i)}=(x-x_0)(x-x_1)...(x-x_n)$"
   ]
  },
  {
   "cell_type": "markdown",
   "metadata": {},
   "source": [
    "## Algorytm Neville'a\n",
    "\n",
    "Algorytm używany do wyznaczania wartości wielomianu interpolacyjnego (Lagrange’a i Newtona) w danym punkcie $x$. Ideą jest wyznaczenie rozwiązania w krokach od pojedynczych węzłów do całego ich zbioru.\n",
    "\n",
    "**Schemat przebiegu algorytmu:**\n",
    "\n",
    "Biorąc pod uwagę zbiór danych punktów węzłowych $(x_i,y_i)$, $i=1,2,...,n$ wielomian $P$ jest stopnia nie wyższego niż $n$, a jego wartości w punktach węzłowych są takie same jak wartości interpolowanej funkcji:\n",
    "\n",
    "$P(x_i)=f(x_i)=y_i$\n",
    "\n",
    "Definiujemy wielomiany interpolacyjne i ich wartości w ustalonym punkcie $x$:\n",
    "\n",
    "- $p_i$ - wartość, w punkcie $x$, wielomianu stopnia zerowego przechodzącego przez punkt $(x_i,y_i)$\n",
    "- $p_{i(i+1)}$ - wartość w punkcie $x$ wielomianu stopnia pierwszego przechodzącego przez punkty $(x_i,y_i)$ oraz $(x_{i+1},y_{i+1})$\n",
    "- $p_{0...n}$ - wartość w punkcie $x$ wielomianu stopnia $n$ przechodzącego przez $n+1$ punktów $(x_i,y_i)$\n",
    "\n",
    "Wielomiany powyższego typu spełniają następujacą własność rekurencyjną:\n",
    "\n",
    "$p_{i(i+1)...(i+k)}=\\frac{(x-x_{i+k})p_{i(i+1)...(i+k-1)}+(x_i-x)p_{(i+1)(i+2)...(i+k)}}{x_i-x_{i+k}}$\n",
    "\n",
    "\n",
    "**Przykład:**\n",
    "\n",
    "Dobrze wyjaśniony przykład można znaleźć tutaj: https://matematyka.pl/viewtopic.php?t=361806"
   ]
  },
  {
   "cell_type": "markdown",
   "metadata": {},
   "source": [
    "## Metoda ilorazów różnicowych\n",
    "\n",
    "Wielomian $W_n(x)$ stopnia $\\leqslant{n}$, który jest zgodny w $f(x)$ w ${x_0,x_1,...,x_n}$ można zapisać w postaci:\n",
    "\n",
    "$W_n(x)=a_0+a_1(x-x_0)+a_2(x-x_0)(x-x_1)+...+a_n(x-x_0)(x-x_1)...(x-x_{n-1})$\n",
    "\n",
    "Wtedy:\n",
    "\n",
    "- $a_0:f(x_0)=W_n(x_0)=a_0$\n",
    "- $a_1:f(x_1)=W_n(x_1)=a_0+a_1(x_1-x_0)=f(x_0)+a_1(x_1-x_0)$\n",
    "\n",
    "Możemy zatem zapisać:\n",
    "\n",
    "- $a_1=\\frac{f(x_1)-f(x_0)}{x_1-x_0}$\n",
    "\n",
    "**Ogólna zależność:**\n",
    "\n",
    "- $x_i:f[x_i]=f(x_i)$\n",
    "- $f[x_i,x_{i+1}]=\\frac{f[x_{i+1}]-f[x_i]}{x_{i+1}-x_i}$\n",
    "\n",
    "**Związek ilorazów różnicowych z pochodnymi:**\n",
    "\n",
    "$\\exists\\eta\\in(a,b) f[x_0,x_1,...,x_n]=\\frac{f^{(n)}(\\eta)}{n!}$"
   ]
  },
  {
   "cell_type": "markdown",
   "metadata": {},
   "source": [
    "## Interpolacja Hermite'a\n",
    "\n",
    "Interpolacja umożliwiająca znalezienie wielomianu przybliżającego według wartości $y_1=f(x_1),y_2=f(x_2),...,y_n=f(x_n)$ na $n$ zadanych węzłach $x_1,x_2,...,x_n$ oraz na wartościach pochodnych na wybranych węzłach.\n",
    "\n",
    "Węzeł zadany bez pochodnej jest węzłem pojedynczym, a węzeł z zadanymi pochodnymi $1,2,...,k$ jest węzłem $k+1$.\n",
    "\n",
    "**Schemat przebiegu interpolacji wraz z przykładem opisany na stronie:**\n",
    "\n",
    "https://pl.wikipedia.org/wiki/Interpolacja_Hermite%E2%80%99a"
   ]
  },
  {
   "cell_type": "markdown",
   "metadata": {},
   "source": [
    "## Efekt Rungego\n",
    "\n",
    "Pogorszenie jakości interpolacji wielomianowej, mimo zwiększenia liczby jej węzłów. Początkowo ze wzrostem liczby węzłów $n$ przybliżenie poprawia się, jednak po dalszym wzroście $n$, zaczyna się pogarszać, co jest szczególnie widoczne na końcach przedziałów.\n",
    "\n",
    "Efekt Rungego występuje, gdy:\n",
    "\n",
    "- interpolujemy wielomianami\n",
    "- węzły interpolacyjne są równoodległe\n",
    "\n",
    "Sposoby zapobiegania wystąpienia efektu Rungego:\n",
    "\n",
    "- zaczynać od interpolacji liniowej\n",
    "- zwiększać liczbę węzłów i stopień wielomianu, aż do ustabilizowania istotnych miejsc\n",
    "- interpolacja funkcjami sklejanymi\n",
    "- specjalny dobór węzłów"
   ]
  },
  {
   "cell_type": "markdown",
   "metadata": {},
   "source": [
    "## Węzły Czebyszewa\n",
    "\n",
    "W analizie numerycznej węzły Czebyszewa są specyficznymi rzeczywistymi liczbami algebraicznymi, mianowicie pierwiastkami wielomianów Czebyszewa pierwszego rodzaju. Są często używane jako węzły w interpolacji wielomianowej, ponieważ wynikowy wielomian interpolacyjny minimalizuje efekt Rungego, czyli duże oscylacje wielomianu interpolacyjnego przy krańcach przedziału. Fakt, że miejsca zerowe wielomianów Czebyszewa zagęszczają się ku krańcom przedziału, pozwala lepiej związać wielomian zapobiegając naturalnym dla wielomianów wysokiego rzędu oscylacjom.\n",
    "\n",
    "Dla zadanego przedziału $[a,b]$ węzły Czebyszewa wyrażają się wzorem:\n",
    "\n",
    "$x_k=\\frac{1}{2}(a+b)+\\frac{1}{2}(b-a)\\cos{(\\frac{2k-1}{2n}\\pi)}$\n",
    "\n",
    "- $k=1,...,n$"
   ]
  },
  {
   "cell_type": "markdown",
   "metadata": {},
   "source": [
    "\\newpage"
   ]
  },
  {
   "cell_type": "markdown",
   "metadata": {},
   "source": [
    "# Funkcje sklejane"
   ]
  },
  {
   "cell_type": "markdown",
   "metadata": {},
   "source": [
    "## Definicja funkcji sklejanej\n",
    "\n",
    "Funkcję $s(x)=s(x,\\Delta{n})$ określoną na $[a,b]$ nazywamy funkcją sklejaną stopnia $m$ ($m\\geqslant1$) jeżeli:\n",
    "\n",
    "- $s(x)$ jest wielomianem stopnia $\\leqslant{m}$ na każdym $[x_i,x_{i+1}]$\n",
    "- $s(x)\\in C^{m-1}[a,b]$\n",
    "\n",
    "$\\Delta{n}$ - podział $[a,b]$ na $n-1$ podprzedziałów przez węzły: $a=x_1<x_2<...<x_i<...<x_n=b$"
   ]
  },
  {
   "cell_type": "markdown",
   "metadata": {},
   "source": [
    "## Interpolacja podziałowa\n",
    "\n",
    "Interpolacja podziałowa, liniowa - dla $x\\in{[x_i,x_{i+1}]}$:\n",
    "\n",
    "$y(x)=y_i+\\frac{y_{i+1}-y_i}{x_{i+1}-x_i}(x-x_i)=\\frac{x_{i+1}-x}{x_{i+1}-x_i}y_i+\\frac{x-x_i}{x_{i+1}-x_i}y_{i+1}=\\Psi_iy_i+\\Psi_{i+1}y_{i+1}$\n",
    "\n",
    "**Funkcja kształtu:**\n",
    "\n",
    "$$\n",
    "\\Psi_i(x) = \\left\\{ \\begin{array}{ll}\n",
    "\\frac{x-x_{i-1}}{x_i-x_{i-1}} & x\\in[x_{i-1},x_i]\\\\\n",
    "\\frac{x_{i+1}-x}{x_{i+1}-x_i} & x\\in[x_i,x_{i+1}]\\\\\n",
    "0 & x\\not\\in[x_{i-1},x_{i+1}]\n",
    "\\end{array} \\right.\n",
    "$$"
   ]
  },
  {
   "cell_type": "markdown",
   "metadata": {},
   "source": [
    "## Interpolująca funkcja sklejana\n",
    "\n",
    "Interpolującą funkcję sklejaną stopnia 1-go można zapisać:\n",
    "\n",
    "$s(x)=\\sum_{i=0}^{n}{y_i\\Psi_i(x)}$"
   ]
  },
  {
   "cell_type": "markdown",
   "metadata": {},
   "source": [
    "## Funkcje B-sklejane\n",
    "\n",
    "- stosowane w grafice komputerowej do modelowania figur o skomplikowanych kształtach\n",
    "- bazują na fakcie, że funkcje sklejane można wyrazić za pomocą kombinacji liniowej funkcji bazowych\n",
    "- takie funkcje bazowe nazywamy funkcjami B-sklejanymi (B-splines)\n",
    "- dla danego zestawu węzłów interpolacji - funkcje bazowe łatwo wyliczyć rekurencyjnie\n",
    "- algorytmy o dobrych własnościach numerycznych"
   ]
  },
  {
   "cell_type": "markdown",
   "metadata": {},
   "source": [
    "**reprezentacja funkcji sklejanej stopnia k:**\n",
    "\n",
    "$S(x)=\\sum_j{p_jB_{j,k}(x)}$\n",
    "\n",
    "- $p_j$ - wspólczynniki (w grafice komputerowej są to tzw. zadane punkty kontrolne)\n",
    "- $B_{j,k}$ - B-spline rzędu $k$\n",
    "\n",
    "$$\n",
    "B_{j,0} = \\left\\{ \\begin{array}{ll}\n",
    "1 & x_j\\leqslant{x}\\leqslant{x_{j+1}}\\\\\n",
    "0 & \\textrm{poza przedziałem}\\\\\n",
    "\\end{array} \\right.\n",
    "$$\n",
    "\n",
    "$B_{j,k}(x)=\\frac{x-x_j}{x_{j+k}-x_j}B_{j,k-1}(x)+\\frac{x_{j+k+1}-x}{x_{j+k+1}-x_{j+1}}B_{j+1,k-1}(x)$"
   ]
  },
  {
   "cell_type": "markdown",
   "metadata": {},
   "source": [
    "\\newpage"
   ]
  },
  {
   "cell_type": "markdown",
   "metadata": {},
   "source": [
    "**własności funkcji B-sklejanych:**\n",
    "\n",
    "- $B_{j,k}(x)>0$, $x\\in[x_j,x_{j+k+1}]$\n",
    "- $B_{j,k}(x)=0$, $x\\not\\in[x_j,x_{j+k+1}]$\n",
    "- w przedziale $[x_j,x_{j+1}]$ istotne jest tylko $k+1$ funkcji: $B_{j-k,k}(x)...B_{j,k}(x)\\neq0$\n",
    "- normalizacja: $\\sum_j{B_{j,k}(x)}=\\sum_{j=l-k}^{'}{B_{j,k}(x)}=1$"
   ]
  },
  {
   "cell_type": "markdown",
   "metadata": {},
   "source": [
    "\\newpage"
   ]
  },
  {
   "cell_type": "markdown",
   "metadata": {},
   "source": [
    "# Równania nieliniowe"
   ]
  },
  {
   "cell_type": "markdown",
   "metadata": {},
   "source": [
    "## Metoda bisekcji\n",
    "\n",
    "**Założenia**\n",
    "\n",
    "- funkcja $f(x)$ jest ciągła w przedziale domkniętym $[a,b]$\n",
    "- funkcja przyjmuje rózne znaki na końcach przedziału: $f(a)f(b)<0$\n",
    "\n",
    "**Przebieg algorytmu:**\n",
    "\n",
    "1. Sprawdzenie, czy pierwiastkiem równania jest punkt $x_1=\\frac{a+b}{2}$, czyli czy $f(x_1)=0$. Jeżeli tak jest algorytm kończy działanie, a punkt $x_1$ jest szukanym miejscem zerowym.\n",
    "2. W przeciwnym razie, dopóki nie osiągniemy żądanej dokładności, czyli dopóki $|a-b|>\\epsilon$:\n",
    "    1. Zgodnie ze wzorem z punktu pierwszego ponownie wyznaczane jest $x_1$, dzieląc przedział $[a,b]$ na dwa mniejsze przedziały: $[a,x_1]$ i $[x_1,b]$.\n",
    "    2. Wybierany jest przedział o znaku przeciwnym niż $x_1$ i odpowiednio górny albo dolny kraniec przedziału ($b$ albo $a$) przyjmuje wartość $x_1$ tj.:\n",
    "        1. jeżeli $f(a)f(x_1)<0$, to $b=x_1$\n",
    "        2. jeżeli $f(x_1)f(b)<0$, to $a=x_1$\n",
    "    3. Po osiągnięciu żądanej dokładności algorytm kończy działanie, a szukany pierwiastek równania wynosi $\\frac{a+b}{2}$\n",
    "\n",
    "Przykład dostępny na stronie: https://pl.wikipedia.org/wiki/Metoda_r%C3%B3wnego_podzia%C5%82u\n",
    "\n",
    "\n",
    "**Zbieżność:**\n",
    "\n",
    "liniowa\n"
   ]
  },
  {
   "cell_type": "markdown",
   "metadata": {},
   "source": [
    "## Metoda Netwona-Raphsona\n",
    "\n",
    "**Założenia:**\n",
    "\n",
    "- w przedziale $[a,b]$ znajduje się dokładnie jeden pierwiastek\n",
    "- funkcja przyjmuje rózne znaki na końcach przedziału: $f(a)f(b)<0$\n",
    "- pierwsza i druga pochodna funkcji mają stały znak w tym przedziale\n",
    "\n",
    "**Przebieg algorytmu:**\n",
    "\n",
    "1. W pierwszym kroku metody wybierany jest punkt startowy $x_1$ (zazwyczaj jest to wartość $a$, $b$, $0$ lub $1$), z którego następnie wyprowadzana jest styczna w $f(x_1)$. Odcięta punktu przecięcia stycznej z osią $OX$ jest pierwszym przybliżeniem rozwiązania (ozn. $x_2$).\n",
    "2. Jeśli to przybliżenie nie jest satysfakcjonujące, wówczas punkt x2 jest wybierany jako nowy punkt startowy i wszystkie czynności są powtarzane. Proces jest kontynuowany, aż zostanie uzyskane wystarczająco dobre przybliżenie pierwiastka\n",
    "\n",
    "Kolejne przybliżenia są dane rekurencyjnym wzorem:\n",
    "\n",
    "$x_{k+1}=x_k-\\frac{f(x_k)}{f'(x_k)}$\n",
    "\n",
    "**Zbieżność:**\n",
    "\n",
    "kwadratowa"
   ]
  },
  {
   "cell_type": "markdown",
   "metadata": {},
   "source": [
    "## Metoda siecznych\n",
    "\n",
    "**Założenia:**\n",
    "\n",
    "- $\\forall{n}: f(x_n)f(x_{n-1})<0$\n",
    "\n",
    "**Przebieg algorytmu:**\n",
    "\n",
    "Metoda polega na przyjęciu, że funkcja ciągła na dostatecznie małym odcinku w przybliżeniu zmienia się w sposób liniowy. Możemy wtedy na odcinku $\\langle a,b \\rangle$  krzywą $y=f(x)$ zastąpić sieczną. Za przybliżoną wartość pierwiastka przyjmujemy punkt przecięcia siecznej z osią $OX$.\n",
    "\n",
    "Metodę siecznych dla funkcji $f(x)$, mającej pierwiastek w przedziale $\\langle a,b \\rangle$  można zapisać następującym wzorem rekurencyjnym:\n",
    "\n",
    "- $x_0=a$\n",
    "- $x_1=b$\n",
    "- $x_{n+1}=\\frac{f(x_n)x_{n-1}-f(x_{n-1})x_n}{f(x_n)-f(x_{n-1})}$\n",
    "\n",
    "Metoda siecznych ma tę zaletę, że do wykonania interpolacji za jej pomocą niepotrzebna jest znajomość pochodnej danej funkcji, gdyż przybliżamy ją za pomocą powyższego wzoru.\n",
    "\n",
    "**Zbieżność:**\n",
    "\n",
    "rząd zbieżności $\\sim1.62$"
   ]
  },
  {
   "cell_type": "markdown",
   "metadata": {},
   "source": [
    "## Metoda Steffensena\n",
    "\n",
    "**Przebieg algorytmu:**\n",
    "\n",
    "$x_{i+1}=x_i-\\frac{f(x_i)}{g(x_i)}$, gdzie: $g(x_i)=\\frac{f(x_i+f(x_i))-f(x_i)}{f(x_i)}$\n",
    "\n",
    "- budujemy sieczną używając $x_i$ oraz $x_i+f(x_i)$\n",
    "- $x_{i+1}$ to punkt przecięcia tej siecznej z osią $OX$\n",
    "- w kolejnym kroku budujemy sieczną używając $x_{i+1}$ oraz $x_{i+1}+f(x_{i+1})$\n",
    "- każdy krok wymaga policzenia dwóch nowych wartości funkcji (w metodzie siecznych od drugiego kroku tylko jednej)\n",
    "\n",
    "**Zbieżność:**\n",
    "\n",
    "rząd zbieżności $=2$"
   ]
  },
  {
   "cell_type": "markdown",
   "metadata": {},
   "source": [
    "## Reguła Falsi\n",
    "\n",
    "**Założenia:**\n",
    "\n",
    "https://pl.wikipedia.org/wiki/Regula_falsi\n",
    "\n",
    "**Przebieg algorytmu:**\n",
    "\n",
    "https://pl.wikipedia.org/wiki/Regula_falsi\n",
    "\n",
    "**Zbieżność:**\n",
    "\n",
    "liniowa"
   ]
  },
  {
   "cell_type": "markdown",
   "metadata": {},
   "source": [
    "## Twierdzenie o zbieżności procesu iteracyjnego\n",
    "\n",
    "**Założenia:**\n",
    "\n",
    "- $x=\\phi(x)$ ma pierwiastek $\\alpha$\n",
    "- na przedziale $l=[\\alpha-a,\\alpha+a]$ zachodzi $|\\phi'(x)|\\leqslant L<1$, gdzie $L$ jest stałą\n",
    "\n",
    "**Teza:**\n",
    "\n",
    "- $x_i\\in l$, $i=1,2,...$\n",
    "- $\\lim_{i\\to\\infty}{x_i=\\alpha}$\n",
    "- $\\alpha$ jest jedynym pierwiastkiem $x=\\phi(x)$ w $l$"
   ]
  },
  {
   "cell_type": "markdown",
   "metadata": {},
   "source": [
    "## Rząd zbieżności procedury iteracyjnej\n",
    "\n",
    "**założenia:**\n",
    "\n",
    "- $\\phi'(\\alpha)=\\phi''(\\alpha)=...=\\phi^{(p-1)}(\\alpha)=0$\n",
    "- $\\phi^{(p)}(\\alpha)\\neq0$\n",
    "\n",
    "**teza:**\n",
    "\n",
    "- $\\epsilon_i=\\frac{\\epsilon_{i-1}^p}{p!}\\phi^{(p)}(\\eta_{i-1})$\n",
    "- $\\lim_{i\\to\\infty}{|\\frac{\\epsilon_i}{\\epsilon_{i-1}^p}|}=\\frac{1}{p!}|\\phi^{(p)}(\\alpha)|$\n",
    "\n",
    "Oznaczenia:\n",
    "\n",
    "- $|\\frac{\\epsilon_i}{\\epsilon_{i-1}^p}|$ - $p$-ty rząd zbieżności\n",
    "- $\\frac{1}{p!}|\\phi^{(p)}(\\alpha)|$ - stała asymptotyczna błędu\n",
    "\n",
    "Jeżeli:\n",
    "\n",
    "- $p=1$ - zbieżność liniowa\n",
    "- $p=2$ - zbieżność kwadratowa\n",
    "- $p=3$ - zbieżność kubiczna (?)"
   ]
  },
  {
   "cell_type": "markdown",
   "metadata": {},
   "source": [
    "\\newpage"
   ]
  },
  {
   "cell_type": "markdown",
   "metadata": {},
   "source": [
    "# Układy równań liniowych"
   ]
  },
  {
   "cell_type": "markdown",
   "metadata": {},
   "source": [
    "## Metoda Gaussa-Jordana\n",
    "\n",
    "**Ogólny opis metody:**\n",
    "\n",
    "https://www.naukowiec.org/wiedza/matematyka/metoda-gaussa-jordana_622.html\n",
    "\n",
    "**Opis metody z użyciem pivotingu:**\n",
    "\n",
    "https://web.mit.edu/10.001/Web/Course_Notes/GaussElimPivoting.html"
   ]
  },
  {
   "cell_type": "markdown",
   "metadata": {},
   "source": [
    "## Faktoryzacja LU\n",
    "\n",
    "**Opis metody:**\n",
    "\n",
    "https://pl.wikipedia.org/wiki/Metoda_LU"
   ]
  }
 ],
 "metadata": {
  "kernelspec": {
   "display_name": "Python 3",
   "language": "python",
   "name": "python3"
  },
  "language_info": {
   "codemirror_mode": {
    "name": "ipython",
    "version": 3
   },
   "file_extension": ".py",
   "mimetype": "text/x-python",
   "name": "python",
   "nbconvert_exporter": "python",
   "pygments_lexer": "ipython3",
   "version": "3.7.5"
  }
 },
 "nbformat": 4,
 "nbformat_minor": 4
}
