{
 "cells": [
  {
   "cell_type": "markdown",
   "metadata": {},
   "source": [
    "##### Metody obliczeniowe w nauce i technice\n",
    "\n",
    "## Laboratorium 7 - Dekompozycja spektralna\n",
    "\n",
    "### Sprawozdanie sporządził: Marcin Zielonka"
   ]
  },
  {
   "cell_type": "markdown",
   "metadata": {},
   "source": [
    "### Wstęp"
   ]
  },
  {
   "cell_type": "markdown",
   "metadata": {},
   "source": [
    "Do realizacji zadań skorzystam z gotowych funkcjonalności zawartych w bibliotekach:\n",
    "* `numpy`\n",
    "* `scipy`\n",
    "* `matplotlib`\n",
    "* `time`"
   ]
  },
  {
   "cell_type": "code",
   "execution_count": 173,
   "metadata": {},
   "outputs": [],
   "source": [
    "import numpy as np\n",
    "import scipy.linalg\n",
    "from matplotlib import pyplot as plt\n",
    "import time"
   ]
  },
  {
   "cell_type": "markdown",
   "metadata": {},
   "source": [
    "Do realizacji obu zadań utworzę funkcję pomocniczą, która tworzy macierz symetryczną n x n:"
   ]
  },
  {
   "cell_type": "markdown",
   "metadata": {},
   "source": [
    "### Zadanie 1: Prosty ranking wierzchołków"
   ]
  },
  {
   "cell_type": "code",
   "execution_count": 302,
   "metadata": {},
   "outputs": [],
   "source": [
    "def random_symmetric_matrix(N):\n",
    "    A = np.random.rand(N, N)\n",
    "    return (A + A.T) / 2"
   ]
  },
  {
   "cell_type": "markdown",
   "metadata": {},
   "source": [
    "Napisz funkcję obliczającą metodą potęgową dominującą wartość własną (największą co do modułu) i odpowiadający jej wektor własny dla danej macierzy rzeczywistej symetrycznej. Sprawdź poprawność działania programu porównując własną implementację z wynikami funkcji bibliotecznej. Przedstaw na wykresie zależność czasu obliczeń od rozmiaru macierzy (rozmiary macierzy 100x100, 500x500, ...).\n",
    "\n",
    "* Powtarzaj mnożenie wektora xi przez macierz A: $$\\mathbf{x}_{i+1}=\\mathbf{A}x_i$$ dzieląc za każdym razem wektor wynikowy przez $\\lvert\\lvert x_{i+1} \\rvert\\rvert_\\infty$\n",
    "\n",
    "* Element wektora $\\mathbf{x}_i$ o największej wartości bezwzględnej zbiega do dominującej wartości własnej\n",
    "\n",
    "* Przeskalowany wektor $\\mathbf{x}_i$ zbiega do dominującego wektora własnego\n",
    "\n",
    "* Obliczenia powinny się zatrzymać po przekroczeniu maksymalnej liczby iteracji, albo w przypadku gdy $\\lvert\\lvert \\mathbf{x}_i−\\mathbf{x}_{i+1} \\rvert\\rvert<\\epsilon$ (kryterium małej poprawki)\n",
    "\n",
    "* Pod koniec obliczeń znormalizuj otrzymany wektor własny"
   ]
  },
  {
   "cell_type": "markdown",
   "metadata": {},
   "source": [
    "Algorytm implementujący metodę potęgową. Jako wynik zwracana jest dominująca wartość własna oraz odpowiadający jej wektor własny:"
   ]
  },
  {
   "cell_type": "code",
   "execution_count": 289,
   "metadata": {},
   "outputs": [],
   "source": [
    "def solve_eig(A, max_iterations=10000, epsilon=1e-15):\n",
    "    \n",
    "    # x0:\n",
    "    previous = np.array([[1] * len(A)]).T\n",
    "    \n",
    "    # x1:\n",
    "    current = np.dot(A, previous)\n",
    "    current /= np.linalg.norm(current, np.inf)\n",
    "    \n",
    "    # x2, x3, ...\n",
    "    for i in range(max_iterations - 2):\n",
    "        if np.linalg.norm(current - previous) < epsilon:\n",
    "            break\n",
    "        \n",
    "        previous = current\n",
    "        \n",
    "        current = np.dot(A, current)\n",
    "        current /= np.linalg.norm(current)\n",
    "    \n",
    "    value = np.dot(np.dot(current.T, A), current).flatten()[0]\n",
    "    \n",
    "    return value, current.T.flatten()"
   ]
  },
  {
   "cell_type": "markdown",
   "metadata": {},
   "source": [
    "Funkcja sprawdzająca poprawność implementacji algorytmu na podstawie porównania wyników z otrzymanymi z wywołania alternatywnej funkcji bibliotecznej z biblioteki `scipy`:"
   ]
  },
  {
   "cell_type": "code",
   "execution_count": 293,
   "metadata": {},
   "outputs": [],
   "source": [
    "def check_results(n, epsilon):\n",
    "    attempts = n\n",
    "    fail = 0\n",
    "    success = 0\n",
    "    \n",
    "    for i in range(n):\n",
    "        A = random_symmetric_matrix(10)\n",
    "        \n",
    "        V1, W1 = solve_eig(A, 20000, epsilon)\n",
    "        V2, W2 = np.linalg.eig(A)\n",
    "        \n",
    "        V1 = np.real(V1)\n",
    "        V2 = max(np.real(V2))\n",
    "        \n",
    "        W1 = abs(np.real(W1))\n",
    "        W2 = abs(np.real(W2.T[0]))\n",
    "        \n",
    "        if np.array(list(map(lambda x: abs(x) <= epsilon, (W1 - W2)))).all() and abs(V1 - V2) <= epsilon:\n",
    "            success += 1\n",
    "        else:\n",
    "            fail += 1\n",
    "    \n",
    "    return attempts, fail, success"
   ]
  },
  {
   "cell_type": "markdown",
   "metadata": {},
   "source": [
    "Przedstawienie na wykresie poprawności wyników ze względu na ich dokładność:"
   ]
  },
  {
   "cell_type": "code",
   "execution_count": 294,
   "metadata": {},
   "outputs": [
    {
     "data": {
      "image/png": "[encoded data removed]",
      "text/plain": [
       "<Figure size 432x288 with 1 Axes>"
      ]
     },
     "metadata": {
      "needs_background": "light"
     },
     "output_type": "display_data"
    }
   ],
   "source": [
    "n = 20\n",
    "\n",
    "alls = []\n",
    "successes = []\n",
    "fails = []\n",
    "\n",
    "for i in range(20):\n",
    "    epsilon = 10 ** (- i)\n",
    "    \n",
    "    attempts, fail, success = check_results(n, epsilon)\n",
    "    \n",
    "    alls.append(attempts)\n",
    "    successes.append(success)\n",
    "    fails.append(fail)\n",
    "\n",
    "plt.plot(alls, 'b')\n",
    "plt.plot(fails, 'ro')\n",
    "plt.plot(successes, 'go')\n",
    "\n",
    "plt.show()"
   ]
  },
  {
   "cell_type": "markdown",
   "metadata": {},
   "source": [
    "Jak widać wyniki są praktycznie identyczne, ponieważ różnią się dopiero przy błędzie rzędu $10^{-15}$."
   ]
  },
  {
   "cell_type": "markdown",
   "metadata": {},
   "source": [
    "Funkcja obliczająca czas działania zaimplementowanej funkcji oraz tej dostarczonej z biblioteką `scipy`:"
   ]
  },
  {
   "cell_type": "code",
   "execution_count": 298,
   "metadata": {},
   "outputs": [],
   "source": [
    "def elapsed_time(A):\n",
    "    numpy_start = time.time()\n",
    "    np.linalg.eig(A)\n",
    "    numpy_end = time.time()\n",
    "    \n",
    "    custom_start = time.time()\n",
    "    solve_eig(A)\n",
    "    custom_end = time.time()\n",
    "    \n",
    "    return (custom_end - custom_start), (numpy_end - numpy_start)"
   ]
  },
  {
   "cell_type": "markdown",
   "metadata": {},
   "source": [
    "Przedstawienie na wykresie wyników pomiaru ze względu na rozmiar macierzy. Kolor zielony oznacza czasy dla funkcji biblitecznej, a kolor niebieski dla funkcji zaimplementowanej."
   ]
  },
  {
   "cell_type": "code",
   "execution_count": 301,
   "metadata": {},
   "outputs": [
    {
     "data": {
      "image/png": "[encoded data removed]",
      "text/plain": [
       "<Figure size 432x288 with 1 Axes>"
      ]
     },
     "metadata": {
      "needs_background": "light"
     },
     "output_type": "display_data"
    }
   ],
   "source": [
    "times_custom = []\n",
    "times_numpy = []\n",
    "\n",
    "for n in np.linspace(50, 1000, num=10, dtype=int):\n",
    "    A = random_symmetric_matrix(n)\n",
    "    \n",
    "    time_custom, time_numpy = elapsed_time(A)\n",
    "    \n",
    "    times_custom.append(time_custom)\n",
    "    times_numpy.append(time_numpy)\n",
    "    \n",
    "plt.plot(times_custom, 'b')\n",
    "plt.plot(times_numpy, 'g')\n",
    "\n",
    "plt.show()"
   ]
  },
  {
   "cell_type": "markdown",
   "metadata": {},
   "source": [
    "Jak widać zaimplementowana funkcja działa szybciej od funkcji bibliotecznej. Jednakże spowodowane jest to najprawdopodobniej faktem, iż funkcja biblioteczna zwraca bardziej szczegółowe wyniki, a zaimplementowana funkcja zwraca tylko jedną wartość własną i związany z nią wektor własny."
   ]
  },
  {
   "cell_type": "markdown",
   "metadata": {},
   "source": [
    "### Zadanie 2: Odwrotna metoda potęgowa"
   ]
  },
  {
   "cell_type": "markdown",
   "metadata": {},
   "source": [
    "Opierając się na twierdzeniu o transformacji widma macierzy:\n",
    "\n",
    "**Twierdzenie 1**\n",
    "\n",
    "*Macierz $(\\mathbf{A}-\\sigma\\mathbf{I})^{-1}$ (jeśli istnieje), to ma wartości własne równe $\\frac{1}{\\lambda_k-\\sigma}$ ($\\lambda_k$ jest $k$-tą wartością macierz $\\mathbf{A}$) i wektory własne identyczne z macierzą $\\mathbf{A}$.*\n",
    "\n",
    "oraz wykorzystując metodę potęgową i faktoryzację $LU$ zaimplementuj odwrotną metodę potęgową pozwalającą na szybkie znalezienie wektorów własnych macierzy $\\mathbf{A}$, dla wartości $\\sigma$ bliskich odpowiedniej wartości własnej. Wykorzystaj fakt, że mnożenie wektora $\\mathbf{x}_i$ przez macierz $\\mathbf{A}^{−1}$ ($\\mathbf{x}_{i+1}= \\mathbf{A}^{−1}\\mathbf{x}_i$) odpowiada rozwiązaniu układu równań $\\mathbf{Ax}_{i+1}=\\mathbf{x}_i$.\n"
   ]
  },
  {
   "cell_type": "markdown",
   "metadata": {},
   "source": [
    "Algorytm implementujący odwrotną metodę potęgą z użyciem faktoryzacji $LU$ do rozwiązywnaia układów równań:"
   ]
  },
  {
   "cell_type": "code",
   "execution_count": 217,
   "metadata": {},
   "outputs": [],
   "source": [
    "def solve_eig_inverse(A, sigma, max_iterations=10000, epsilon=1e-15):\n",
    "    # obtain LU factors using scipy library\n",
    "    LU, P = scipy.linalg.lu_factor(A - sigma * np.identity(len(A)))\n",
    "    \n",
    "    # x0:\n",
    "    previous = np.array([[1] * len(A)]).T\n",
    "    \n",
    "    # x1:\n",
    "    # solve equation using LU factorization with scipy library\n",
    "    current = scipy.linalg.lu_solve((LU, P), previous) \n",
    "    current /= np.linalg.norm(current)\n",
    "    \n",
    "    for i in range(max_iterations):\n",
    "        if np.linalg.norm(current - previous) < epsilon:\n",
    "            break\n",
    "            \n",
    "        previous = current\n",
    "        \n",
    "        # solve equation using LU factorization with scipy library\n",
    "        current = scipy.linalg.lu_solve((LU, P), current)\n",
    "        current /= np.linalg.norm(current)\n",
    "    \n",
    "    value = np.dot(np.dot(current.T, A), current).flatten()[0]\n",
    "    \n",
    "    return value, current.T.flatten()"
   ]
  },
  {
   "cell_type": "markdown",
   "metadata": {},
   "source": [
    "Funkcja sprawdzająca poprawność implementacji algorytmu na podstawie porównania wyników z otrzymanymi z wywołania alternatywnej funkcji bibliotecznej z biblioteki `scipy`:"
   ]
  },
  {
   "cell_type": "code",
   "execution_count": 283,
   "metadata": {},
   "outputs": [],
   "source": [
    "def check_results(n, epsilon):\n",
    "    attempts = n\n",
    "    fail = 0\n",
    "    success = 0\n",
    "    \n",
    "    for i in range(n):\n",
    "        A = random_symmetric_matrix(10)\n",
    "        \n",
    "        V2, W2 = np.linalg.eig(A)\n",
    "        # adding random value to simulate sigma near the eigenvalue:\n",
    "        V1, W1 = solve_eig_inverse(A, max(V2) + np.random.rand(), 20000, epsilon)\n",
    "        \n",
    "        V1 = np.real(V1)\n",
    "        V2 = max(np.real(V2))\n",
    "        \n",
    "        W1 = abs(np.real(W1))\n",
    "        W2 = abs(np.real(W2.T[0]))\n",
    "        \n",
    "        if np.array(list(map(lambda x: abs(x) <= epsilon, (W1 - W2)))).all() and abs(V1 - V2) <= epsilon:\n",
    "            success += 1\n",
    "        else:\n",
    "            fail += 1\n",
    "    \n",
    "    return attempts, fail, success"
   ]
  },
  {
   "cell_type": "markdown",
   "metadata": {},
   "source": [
    "Przedstawienie na wykresie poprawności wyników ze względu na ich dokładność:"
   ]
  },
  {
   "cell_type": "code",
   "execution_count": 285,
   "metadata": {},
   "outputs": [
    {
     "data": {
      "image/png": "[encoded data removed]",
      "text/plain": [
       "<Figure size 432x288 with 1 Axes>"
      ]
     },
     "metadata": {
      "needs_background": "light"
     },
     "output_type": "display_data"
    }
   ],
   "source": [
    "n = 5\n",
    "\n",
    "alls = []\n",
    "successes = []\n",
    "fails = []\n",
    "\n",
    "for i in range(20):\n",
    "    epsilon = 10 ** (- i)\n",
    "    \n",
    "    attempts, fail, success = check_results(n, epsilon)\n",
    "    \n",
    "    alls.append(attempts)\n",
    "    successes.append(success)\n",
    "    fails.append(fail)\n",
    "\n",
    "plt.plot(alls, 'b')\n",
    "plt.plot(fails, 'ro')\n",
    "plt.plot(successes, 'go')\n",
    "\n",
    "plt.show()"
   ]
  },
  {
   "cell_type": "markdown",
   "metadata": {},
   "source": [
    "Jak widać wyniki są również praktycznie identyczne, ponieważ różnią się dopiero przy błędzie rzędu $10^{−15}$."
   ]
  },
  {
   "cell_type": "markdown",
   "metadata": {},
   "source": [
    "Funkcja obliczająca czas działania zaimplementowanych obu funkcji oraz tej dostarczonej z biblioteką `scipy`:"
   ]
  },
  {
   "cell_type": "code",
   "execution_count": 286,
   "metadata": {},
   "outputs": [],
   "source": [
    "def elapsed_time(A):\n",
    "    \n",
    "    numpy_start = time.time()\n",
    "    V2, _ = np.linalg.eig(A)\n",
    "    numpy_end = time.time()\n",
    "    \n",
    "    eig_inverse_start = time.time()\n",
    "    solve_eig_inverse(A, max(V2) + np.random.rand())\n",
    "    eig_inverse_end = time.time()\n",
    "    \n",
    "    eig_start = time.time()\n",
    "    solve_eig(A)\n",
    "    eig_end = time.time()\n",
    "    \n",
    "    return (eig_inverse_end - eig_inverse_start), (eig_end - eig_start), (numpy_end - numpy_start)"
   ]
  },
  {
   "cell_type": "markdown",
   "metadata": {},
   "source": [
    "Przedstawienie na wykresie wyników pomiaru ze względu na rozmiar macierzy. Kolor zielony oznacza czasy dla funkcji biblitecznej, kolor niebieski dla funkcji implementującej odwrotną metodę potęgową, a kolor czerwony - dla funkcji implementującej metodę potęgową z zadania 1."
   ]
  },
  {
   "cell_type": "code",
   "execution_count": 287,
   "metadata": {},
   "outputs": [
    {
     "data": {
      "image/png": "[encoded data removed]",
      "text/plain": [
       "<Figure size 432x288 with 1 Axes>"
      ]
     },
     "metadata": {
      "needs_background": "light"
     },
     "output_type": "display_data"
    }
   ],
   "source": [
    "times_eig_inverse = []\n",
    "times_eig = []\n",
    "times_numpy = []\n",
    "\n",
    "for n in np.linspace(50, 1000, num=10, dtype=int):\n",
    "    A = random_symmetric_matrix(n)\n",
    "    \n",
    "    time_eig_inverse, time_eig, time_numpy = elapsed_time(A)\n",
    "    \n",
    "    times_eig_inverse.append(time_eig_inverse)\n",
    "    times_eig.append(time_eig)\n",
    "    times_numpy.append(time_numpy)\n",
    "    \n",
    "plt.plot(times_eig_inverse, 'b')\n",
    "plt.plot(times_eig, 'r')\n",
    "plt.plot(times_numpy, 'g')\n",
    "\n",
    "plt.show()"
   ]
  },
  {
   "cell_type": "markdown",
   "metadata": {},
   "source": [
    "Jak widać funkcja implementująca metodę potęgową działa szybciej od funkcji bibliotecznej i tej implementującej odwrotną metodę potegową. Jednakże spowodowane jest to najprawdopodobniej faktem, iż funkcja biblioteczna zwraca bardziej szczegółowe wyniki, a funkcja implementująca metodę potęgową zwraca tylko jedną wartość własną i związany z nią wektor własny. Natomiast wysoki czas dla funkcji implementującej odwrotną metodę potęgową jest prawdopodobnie uwarunkowany faktem, iż w trakcie są rozwiązywane układy równań metodą $LU$."
   ]
  }
 ],
 "metadata": {
  "kernelspec": {
   "display_name": "Python 3",
   "language": "python",
   "name": "python3"
  },
  "language_info": {
   "codemirror_mode": {
    "name": "ipython",
    "version": 3
   },
   "file_extension": ".py",
   "mimetype": "text/x-python",
   "name": "python",
   "nbconvert_exporter": "python",
   "pygments_lexer": "ipython3",
   "version": "3.7.5"
  }
 },
 "nbformat": 4,
 "nbformat_minor": 4
}
