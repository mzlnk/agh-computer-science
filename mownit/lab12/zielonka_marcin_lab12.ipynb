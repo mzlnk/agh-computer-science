{
 "cells": [
  {
   "cell_type": "markdown",
   "metadata": {},
   "source": [
    "##### Metody obliczeniowe w nauce i technice\n",
    "\n",
    "## Laboratorium 12 - Równania różniczkowe i zagadnienie początkowe\n",
    "\n",
    "### Sprawozdanie sporządził: Marcin Zielonka"
   ]
  },
  {
   "cell_type": "markdown",
   "metadata": {},
   "source": [
    "### Wstęp"
   ]
  },
  {
   "cell_type": "markdown",
   "metadata": {},
   "source": [
    "Do realizacji zadań skorzystam z gotowych funkcjonalności zawartych w bibliotekach:\n",
    "- `numpy` - wersja `1.18.2`\n",
    "- `matplotlib` - wersja `3.2.0`\n",
    "- `scipy` - wersja `1.4.1`\n",
    "- `math`\n",
    "- `random`"
   ]
  },
  {
   "cell_type": "code",
   "execution_count": 1,
   "metadata": {},
   "outputs": [],
   "source": [
    "import numpy as np\n",
    "from matplotlib import pyplot as plt\n",
    "import math"
   ]
  },
  {
   "cell_type": "markdown",
   "metadata": {},
   "source": [
    "Dodatkowo, zaimplementowałem na potrzeby zadań w zestawie funkcję realizującą działanie funkcji trygonometrycznej $sec(x)$:"
   ]
  },
  {
   "cell_type": "code",
   "execution_count": 2,
   "metadata": {},
   "outputs": [],
   "source": [
    "def sec(x):\n",
    "    return 1 / math.cos(x)"
   ]
  },
  {
   "cell_type": "markdown",
   "metadata": {},
   "source": [
    "### Zadanie 1: Metoda Rungego-Kutty"
   ]
  },
  {
   "cell_type": "markdown",
   "metadata": {},
   "source": [
    "Zaimplementuj metodę Rungego-Kutty czwartego rzędu (rozdział 10.2, Kincaid i Cheney), a następnie:\n",
    "1. Opisz zalety metody Rungego-Kutty w porównaniu do metody z szeregami Taylora\n",
    "2. Rozwiąż zagadnienie początkowe dane równaniem $x'=x/t+t\\sec(x/t)$ z warunkiem początkowym $x(0)=0$. Przedłuż rozwiązanie do $t=1$ z krokiem $h=2^{−7}$. Porównaj wynik z dokładnym rozwiązaniem: $x(t)=t\\arcsin(t)$.\n",
    "3. Używając tej samej metody rozwiąż zagadnienie początkowe dane równaniem $x'=100(\\sin(t)−x)$ z warunkiem początkowym $x(0)=0$ na przedziale $[0,3]$ używając kroków o rozmiarach $h=0.015,0.02,0.025,0.03$. Opisz z czego wynikają różnice w rozwiązaniach."
   ]
  },
  {
   "cell_type": "markdown",
   "metadata": {},
   "source": [
    "Zalety metody Rungego-Kutty w porównaniu do metody z szeregami Taylora:\n",
    "\n",
    "Główną zaletą metody Rungego-Kutty w porównaniu do metody z szeregami Taylora jest fakt, iż nie potrzebuje znać wyrażeń pochodnych dla funkcji $f$. Dodatkowo, przy zastosowaniu metody z szeregami Taylora, musimy wiedzieć, że pewne pochodne cząstkowe funkcji $f$ istnieją (w metodzie Rungego-Kutty nie jest to potrzebne)."
   ]
  },
  {
   "cell_type": "markdown",
   "metadata": {},
   "source": [
    "Aby rozwiązać zagadnienie początkowo dane równaniem $x'=x/t+tsec(x/t)$, zaimplementowałem w oparciu o informacje znajdujące się w książce *Analiza numeryczna* D. Kincaida i W. Cheney'a, funkcję `runge_kutta_solve`, która przyjmuje następujące parametry:\n",
    "- `f` - funkcja $f(t,x)$\n",
    "- `x0` - argument warunku początkowego\n",
    "- `t0` - wartość warunku początkowego\n",
    "- `tk` - wartość, do której ma zostać przedłużone rozwiązanie\n",
    "- `h` - wartość kroku\n",
    "\n",
    "Funkcja ta zwraca listę krotek, z których każda z nich zawiera informację o $i$-tym kroku, wartości argumenty i wartości dla tego argumentu"
   ]
  },
  {
   "cell_type": "code",
   "execution_count": 3,
   "metadata": {},
   "outputs": [],
   "source": [
    "def runge_kutta_solve(f, x0, t0, tk, h):\n",
    "    k_max = math.ceil((tk - t0) / h)\n",
    "    \n",
    "    result = []\n",
    "    \n",
    "    t = t0 + 1e-100\n",
    "    x = x0 + 1e-100\n",
    "    \n",
    "    for k in range(k_max):\n",
    "        F1 = h * f(t, x)\n",
    "        F2 = h * f(t + 0.5 * h, x + 0.5 * F1)\n",
    "        F3 = h * f(t + 0.5 * h, x + 0.5 * F2)\n",
    "        F4 = h * f(t + h, x + F3)\n",
    "        \n",
    "        x = x + (F1 + 2 * F2 + 2 * F3 + F4) / 6\n",
    "        t = t + h\n",
    "        \n",
    "        result.append((k, t, x))\n",
    "        \n",
    "    return result"
   ]
  },
  {
   "cell_type": "markdown",
   "metadata": {},
   "source": [
    "Następnie napisałem pomocniczą funkcję, która porównuje otrzymane wyniki z dokładnym rozwiązaniem (a dokładniej wartość błędu bezwględnego pomiędzy wynikami)."
   ]
  },
  {
   "cell_type": "code",
   "execution_count": 4,
   "metadata": {},
   "outputs": [],
   "source": [
    "def compare_results_with_function(RKS, u):\n",
    "    xs = []\n",
    "    ys = []\n",
    "    \n",
    "    for k, t, x in RKS:        \n",
    "        xs.append(t)\n",
    "        ys.append(abs(u(t) - x))\n",
    "    \n",
    "    plt.plot(xs, ys, 'b')\n",
    "    plt.show()"
   ]
  },
  {
   "cell_type": "markdown",
   "metadata": {},
   "source": [
    "Następnie podałem wszystkie potrzebne parametry i wywołałem funkcję w celu otrzymania i przeanalizowania wyników:"
   ]
  },
  {
   "cell_type": "code",
   "execution_count": 5,
   "metadata": {
    "scrolled": true
   },
   "outputs": [
    {
     "data": {
      "image/png": "[encoded data removed]",
      "text/plain": [
       "<Figure size 432x288 with 1 Axes>"
      ]
     },
     "metadata": {
      "needs_background": "light"
     },
     "output_type": "display_data"
    }
   ],
   "source": [
    "f = lambda t, x: x / t + t * sec(x / t)\n",
    "u = lambda t: t * math.asin(t)\n",
    "\n",
    "result = runge_kutta_solve(f, 0, 0, 1, 2 ** -7)\n",
    "compare_results_with_function(result, u)"
   ]
  },
  {
   "cell_type": "markdown",
   "metadata": {},
   "source": [
    "Jak widać wraz z przedłużaniem rozwiązania, błąd bezwględny rośnie w sposób jednostajny, a w okolicach wartości $1$ (do której robiliśmy przedłużenie rozwiązania), wartość tego błądu zaczyna rosnąć szybciej."
   ]
  },
  {
   "cell_type": "markdown",
   "metadata": {},
   "source": [
    "W celu sprawdzenia porównania wyników w zależności od zastosowanej wielkości wartości kroku $h$ napisałem dodatkową funkcję pomocniczą, która wyrysowuje wykres na podstawie obliczonych punktów przy użyciu wcześniej zaimplementowanego algorytmu:"
   ]
  },
  {
   "cell_type": "code",
   "execution_count": 6,
   "metadata": {},
   "outputs": [],
   "source": [
    "def compare_result_by_h(results):\n",
    "    colors = ['b', 'g', 'r', 'm', 'm', 'y', 'k']\n",
    "    for idx, result in enumerate(results):\n",
    "        xs = []\n",
    "        ys = []\n",
    "        \n",
    "        for k, t, x in result:\n",
    "                xs.append(t)\n",
    "                ys.append(x)\n",
    "        \n",
    "        plt.plot(xs, ys, colors[idx] + 'o', markersize=1)\n",
    "    \n",
    "    plt.ylim(bottom=-0.5, top=10)\n",
    "    plt.xlim(left=0, right=3)\n",
    "    plt.show()"
   ]
  },
  {
   "cell_type": "markdown",
   "metadata": {},
   "source": [
    "Nastepnie wygenerowałem wyniki dla rozwiązania zagadnienia początkowego danego równaniem $x'=100(\\sin(t)-x)$ z warunkiem początkowym $x(0)=0$, aby przeanalizować otrzymany wykres funkcji w zależności od zastosowanej wielkości wartości kroku $h$:"
   ]
  },
  {
   "cell_type": "code",
   "execution_count": 7,
   "metadata": {},
   "outputs": [
    {
     "data": {
      "image/png": "[encoded data removed]",
      "text/plain": [
       "<Figure size 432x288 with 1 Axes>"
      ]
     },
     "metadata": {
      "needs_background": "light"
     },
     "output_type": "display_data"
    }
   ],
   "source": [
    "f = lambda t, x: 100 * (math.sin(t) - x)\n",
    "results = []\n",
    "\n",
    "for h in [0.015, 0.02, 0.025, 0.03]:\n",
    "    results.append(runge_kutta_solve(f, 0, 0, 3, h))\n",
    "\n",
    "compare_result_by_h(results)"
   ]
  },
  {
   "cell_type": "markdown",
   "metadata": {},
   "source": [
    "Jak można zauważyć, wykresy funkcji otrzymane przy zastosowaniu wartości kroku $h$ równego $0.015, 0.02 i 0.025$ są praktycznie takie same. Natomiast wykres otrzymanej funkcji dla kroku $h=0.03$ znacząco różni się od pozostałych. Jest to spowodowane faktem, iż wielkość wartości $h$ wpływa na wartości wyliczanych w trakcie działania algorytmu wartości $F_i$, które następnie wpływaja na otrzymane wartości $t$ i $x$."
   ]
  },
  {
   "cell_type": "markdown",
   "metadata": {},
   "source": [
    "### Zadanie 2: Adaptacyjna metoda Rungego-Kutty-Fehlberga"
   ]
  },
  {
   "cell_type": "markdown",
   "metadata": {},
   "source": [
    "Zaimplementuj adaptacyjną metodę Rungego-Kutty-Fehlberga (rozdział 10.3, Kincaid i Cheney) i użyj jej do rozwiązania zagadnienia początkowego: $x'=3x/t+9/2t−13$ z warunkiem brzegowym $x(3)=6$ w punkcie $x(1/2)$ z dokładnością do $9$ miejsc po przecinku. Porównaj wynik z rozwiązaniem analitycznym $x=t^3−9/2t^2+13/2t$. W jaki sposób metoda adaptacyjna pozwala nam zwiększyć dokładność rozwiązania? Jakie są tego wady?"
   ]
  },
  {
   "cell_type": "markdown",
   "metadata": {},
   "source": [
    "Na podstawie informacji (w tym pseudokodu i tabeli z odpowiednimi wartościami użytymi w algorytmie) zawartych w książce *Analiza numeryczna* D. Kincaida i W. Cheney'a, zaimplementowałem funkcję realizującą adaptacyjną metodę Rungego-Kutty-Fehlberga:\n",
    "\n",
    "Funkcja ta przyjmuje następującego parametry:\n",
    "- `f` - funkcja $f(t,x)$\n",
    "- `a` - początek przedziału (ten od którego zaczynamy obliczanie kolejnych wartości) - jest on równoznaczny z wartością argumentu warunku początkowego\n",
    "- `b` - koniec przedziału (wartość, do której przedłużamy rozwiązanie zagadnienia\n",
    "- `alpha` - wartość dla warunku początkowego\n",
    "- `h` - wartość kroku\n",
    "- `delta` - dokładność rozwiązania\n",
    "\n",
    "Funkcja ta zwraca listę krotek, z których każda z nich zawiera informację o $i$-tym kroku, wartości argumentu, wartości dla tego argumentu oraz wartości $e$ (wartość błędu drugiego, mniej dokładnego wzoru spośród: $\\hat{x}(t+h)$ i $\\tilde{x}(t+h)$ i służy on podczas działania algorytmu do sterowania wartością $h$)."
   ]
  },
  {
   "cell_type": "code",
   "execution_count": 8,
   "metadata": {},
   "outputs": [],
   "source": [
    "def runge_kutta_fehlberg_solve(f, a, b, alpha, h, delta):\n",
    "    # values used to calculate F_i values during algorithm:\n",
    "    A = [16 / 135, 0, 6656 / 12825, 28561 / 56430, -9 / 50, 2/ 55]\n",
    "    AB = [1 / 360, 0, -128 / 4275, -2197 / 75240, 1 / 50, 2 / 55]\n",
    "    C = [0, 0.25, 3 / 8, 12 / 13, 1, 0.5]\n",
    "    D = [\n",
    "        [None, 0.25, 3/ 32, 1932 / 2197, 439 / 216, -8 / 27],\n",
    "        [None, None, 9 / 32, -7200 / 2197, -8, 2],\n",
    "        [None, None, None, 7296 / 2197, 3680 / 513, -3544 / 2565],\n",
    "        [None, None, None, None, -845 / 4104, 1859 / 4104],\n",
    "        [None, None, None, None, None, -11 / 40]\n",
    "    ]\n",
    "    \n",
    "    t = a\n",
    "    x = alpha\n",
    "    k = 0\n",
    "    \n",
    "    flag = False\n",
    "    \n",
    "    result = []\n",
    "    \n",
    "    while True:\n",
    "        d = b - t\n",
    "        \n",
    "        if abs(d) <= abs(h):\n",
    "            flag = True\n",
    "            H = d\n",
    "            \n",
    "        y = x\n",
    "        \n",
    "        F = [0] * 6\n",
    "        \n",
    "        for i in range(6):\n",
    "            t_param = t + C[i] * h\n",
    "            x_param = x\n",
    "            \n",
    "            for j in range(i):\n",
    "                x_param += D[j][i] * F[j]\n",
    "            \n",
    "            F[i] = h * f(t_param, x_param)\n",
    "        \n",
    "        for i in range(6):\n",
    "            x += A[i] * F[i]\n",
    "        \n",
    "        e = 0\n",
    "        for i in range(6):\n",
    "            e += AB[i] * F[i]\n",
    "        \n",
    "        if abs(e) >= delta:\n",
    "            h = h / 2\n",
    "            x = y\n",
    "        else:\n",
    "            if abs(e) < (delta / 128):\n",
    "                h = 2 * h\n",
    "                x = y\n",
    "            else:\n",
    "                t = t + h\n",
    "                k += 1\n",
    "                \n",
    "                result.append((k, t, x, e))\n",
    "                \n",
    "                if flag == True:\n",
    "                    return result\n",
    "                   \n",
    "    \n",
    "    return result        "
   ]
  },
  {
   "cell_type": "markdown",
   "metadata": {},
   "source": [
    "Następnie przekazałem do funkcji wszystkie wymagane paramtery, w celu sprawdzenia poprawności działania zaimplementowanej funkcji:"
   ]
  },
  {
   "cell_type": "code",
   "execution_count": 9,
   "metadata": {},
   "outputs": [
    {
     "name": "stdout",
     "output_type": "stream",
     "text": [
      "abs error: 3.80681264289251e-10\n"
     ]
    }
   ],
   "source": [
    "f = lambda t, x: 3 * x / t + 9 / 2 * t - 13\n",
    "u = lambda t: t ** 3 - 9 / 2 * t ** 2 + 13 / 2 * t\n",
    "\n",
    "result = runge_kutta_fehlberg_solve(f, 3, 0.5, 6, -0.015, 1e-9)\n",
    "k, t, x, e = result[-1]\n",
    "\n",
    "print(f'abs error: {abs(u(t) - x)}')"
   ]
  },
  {
   "cell_type": "markdown",
   "metadata": {},
   "source": [
    "Jak widać zaimplementowana funkcja działa oraz zwraca wynik z dokładnością do 9 miejsc po przecinku (zgodnie z założeniami zadania)"
   ]
  },
  {
   "cell_type": "markdown",
   "metadata": {},
   "source": [
    "Metoda adaptacyjna pozwala nam zwiększyć dokładność otrzymywanych rozwiązań właśnie poprzez możliwość sterowania wartością $h$ w zależności od otrzymanej wartości $e$ za każdym krokiem obliczania kolejnych wartości $t$ oraz $x$. W momencie, w którym wartość $|e|$ jest większa od $\\delta$, to wartość kroku $h$ jest zmniejszana i krok jest powtarzany ponownie w celu otrzymania dokładniejszego wyniku. W przypadku, gdy wartość $|e|$ jest na tyle mała, że jest mniejsza od $\\frac{1}{128}$ wartości $\\delta$, to wartość kroku $h$ jest zwiększana dwukrotnie i ponownie powtarzany jest krok. W taki sposób, mamy pewność, iż otrzymamy rozwiązania z podaną dokładnością.\n",
    "\n",
    "Jedną z wad takiego podejścia może być wydajność i szybkość działania algorytmu, gdyż przy większych dokładnościach algorytm ten będzie zmuszony powtarzać kilkukrotnie ten sam krok, aby osiągnąć żądaną dokładność."
   ]
  }
 ],
 "metadata": {
  "kernelspec": {
   "display_name": "Python 3",
   "language": "python",
   "name": "python3"
  },
  "language_info": {
   "codemirror_mode": {
    "name": "ipython",
    "version": 3
   },
   "file_extension": ".py",
   "mimetype": "text/x-python",
   "name": "python",
   "nbconvert_exporter": "python",
   "pygments_lexer": "ipython3",
   "version": "3.7.5"
  }
 },
 "nbformat": 4,
 "nbformat_minor": 4
}
