{
 "cells": [
  {
   "cell_type": "markdown",
   "metadata": {},
   "source": [
    "##### Metody obliczeniowe w nauce i technice\n",
    "\n",
    "## Laboratorium 8 - Page Rank\n",
    "\n",
    "### Sprawozdanie sporządził: Marcin Zielonka"
   ]
  },
  {
   "cell_type": "markdown",
   "metadata": {},
   "source": [
    "### Wstęp"
   ]
  },
  {
   "cell_type": "markdown",
   "metadata": {},
   "source": [
    "Do realizacji zadań skorzystam z gotowych funkcjonalności zawartych w bibliotekach:\n",
    "* `numpy` - wersja `1.18.2`\n",
    "* `scipy` - wersja `1.4.1`\n",
    "* `math`\n",
    "* `random`"
   ]
  },
  {
   "cell_type": "code",
   "execution_count": 1,
   "metadata": {},
   "outputs": [],
   "source": [
    "import numpy as np\n",
    "import scipy.linalg\n",
    "import random\n",
    "import math"
   ]
  },
  {
   "cell_type": "markdown",
   "metadata": {},
   "source": [
    "Wybór losowego wierzchołka z uwzględnieniem ich rang przeprowadzę przy użyciu drzewa BST. Na ten cel zaimplementowałem odpowiednie struktury i funkcje:"
   ]
  },
  {
   "cell_type": "code",
   "execution_count": 2,
   "metadata": {},
   "outputs": [],
   "source": [
    "class Node:\n",
    "    \"tree\"\n",
    "    def __init__(self, key, val, left=None, right=None):\n",
    "        self.key = key\n",
    "        self.val = val\n",
    "        self.left = left\n",
    "        self.right = right\n",
    "        \n",
    "    def __str__(self):\n",
    "        return str(self.val)"
   ]
  },
  {
   "cell_type": "code",
   "execution_count": 3,
   "metadata": {},
   "outputs": [],
   "source": [
    "def build_tree(values):\n",
    "    root = Node(key=values[0][0], val=values[0][1])\n",
    "    \n",
    "    for key, val in values[1:]:\n",
    "        previous = root\n",
    "        node = root\n",
    "    \n",
    "        while node != None:\n",
    "            previous = node\n",
    "            \n",
    "            if val < node.val:\n",
    "                node = node.left\n",
    "            else:\n",
    "                node = node.right\n",
    "        if val < previous.val:\n",
    "            previous.left = Node(key=key, val=val)\n",
    "        else:\n",
    "            previous.right = Node(key=key, val=val)\n",
    "            \n",
    "    return root"
   ]
  },
  {
   "cell_type": "code",
   "execution_count": 4,
   "metadata": {},
   "outputs": [],
   "source": [
    "def upper_key(tree, val):\n",
    "    if tree.left is None and tree.right is None and tree.val < val:\n",
    "        return None\n",
    "    \n",
    "    if tree.val >= val and tree.left is None or tree.val >= val and tree.left.val < val:\n",
    "        return tree.key\n",
    "    \n",
    "    if tree.val <= val:\n",
    "        return upper_key(tree.right, val)\n",
    "    else:\n",
    "        return upper_key(tree.left, val)"
   ]
  },
  {
   "cell_type": "markdown",
   "metadata": {},
   "source": [
    "Dodatkowo zdefiniuję funkcje do manipulacji grafami:"
   ]
  },
  {
   "cell_type": "markdown",
   "metadata": {},
   "source": [
    "Funkcja tworząca graf skierowany silnie spójny o $n$ wierzchołkach w postaci macierzy sąsiedztwa:"
   ]
  },
  {
   "cell_type": "code",
   "execution_count": 5,
   "metadata": {},
   "outputs": [],
   "source": [
    "def generate_graph(n):\n",
    "    A = np.ones(n*n).reshape(n,n)\n",
    "    \n",
    "    for i in range(n):\n",
    "        A[i][i] = 0\n",
    "        \n",
    "    return A"
   ]
  },
  {
   "cell_type": "markdown",
   "metadata": {},
   "source": [
    "Funkcja ładująca graf w postaci macierzy sąsiedztwa z pliku:"
   ]
  },
  {
   "cell_type": "code",
   "execution_count": 6,
   "metadata": {},
   "outputs": [],
   "source": [
    "def load_graph(filename):\n",
    "    f = open(filename)\n",
    "    content = f.readlines()\n",
    "    \n",
    "    size = int(content[0])\n",
    "    A = np.zeros(size * size).reshape(size, size)\n",
    "    \n",
    "    for connection in content[1:]:\n",
    "        u = int(connection.split('\\t')[0])\n",
    "        v = int(connection.split('\\t')[1])\n",
    "        \n",
    "        A[u][v] = 1\n",
    "        \n",
    "    return A"
   ]
  },
  {
   "cell_type": "markdown",
   "metadata": {},
   "source": [
    "Funkcja skalująca macierz sąsiedztwa $A$ zgodnie z zależnością:\n",
    "\n",
    "$$\n",
    "A_{u,v} = \\left\\{ \\begin{array}{ll}\n",
    "\\frac{1}{N_u} & \\textrm{jeśli krawędź $(u,v)$ istnieje}\\\\\n",
    "0 & \\textrm{w przeciwnym wypadku}\\\\\n",
    "\\end{array} \\right.\n",
    "$$"
   ]
  },
  {
   "cell_type": "code",
   "execution_count": 7,
   "metadata": {},
   "outputs": [],
   "source": [
    "def transform_graph(A):\n",
    "    n = len(A)\n",
    "    B = np.zeros(n*n).reshape(n,n)\n",
    "    \n",
    "    for u in range(n):\n",
    "        for v in range(n):\n",
    "            if A[u][v] == 0:\n",
    "                continue\n",
    "            B[u][v] = 1 /  np.sum(A[v])\n",
    "    \n",
    "    return B"
   ]
  },
  {
   "cell_type": "markdown",
   "metadata": {},
   "source": [
    "Funkcja, która symuluje przechodzenie po grafie $A$ z uwzględnieniem rang wierzchołków:"
   ]
  },
  {
   "cell_type": "code",
   "execution_count": 8,
   "metadata": {},
   "outputs": [],
   "source": [
    "def graph_inspect(A, ranks, steps):\n",
    "    n = len(A)\n",
    "    trace = [0]\n",
    "    \n",
    "    for i in range(steps):\n",
    "        nodes = np.array([(idx, ranks[idx]) for (idx, x) in enumerate(A[trace[-1]]) if x != 0])\n",
    "                \n",
    "        for i in range(1, len(nodes)):\n",
    "            nodes[i][1] += nodes[i - 1][1]\n",
    "        \n",
    "        nodes = np.array([(key, val / nodes[-1][1]) for (key, val) in nodes])\n",
    "        \n",
    "        tree_rank = build_tree(nodes)\n",
    "        trace.append(int(upper_key(tree_rank, random.random())))\n",
    "    \n",
    "    occurences = [trace.count(node) for node in np.arange(0, n)]\n",
    "    \n",
    "    return trace, occurences"
   ]
  },
  {
   "cell_type": "markdown",
   "metadata": {},
   "source": [
    "### Zadanie 1: Prosty ranking wierzchołków"
   ]
  },
  {
   "cell_type": "markdown",
   "metadata": {},
   "source": [
    "Zaimplementuj prosty model błądzenia przypadkowego po grafie skierowanym:\n",
    "\n",
    "$$\\mathbf{r}(u)=d\\sum_{v\\in{B_u}}{\\frac{\\mathbf{r}(v)}{N_v}}$$\n",
    "\n",
    "gdzie $\\mathbf{r}(u)$ oznacza ranking wierzchołka $u$, parametr $c$ jest używany w normalizacji, $B_u$ jest zbiorem wierzchołków, z których wychodzą krawędzie do wierzchołka $u$, $F_v$ oznacza zbiór wierzchołków, do których dochodzą krawędzie z wierzchołka $v$, a $N_v=|F_v|$. W zapisie macierzowym:\n",
    "\n",
    "$$\\mathbf{r}=d\\mathbf{Ar}$$\n",
    "\n",
    "gdzie $\\mathbf{A}$ jest macierzą adiacencji grafu, w której każdy wiersz $u$ jest przeskalowany wyjściowym stopniem wierzchołka $u$.\n",
    "\n",
    "$$\n",
    "A_{u,v} = \\left\\{ \\begin{array}{ll}\n",
    "\\frac{1}{N_u} & \\textrm{jeśli krawędź $(u,v)$ istnieje}\\\\\n",
    "0 & \\textrm{w przeciwnym wypadku}\\\\\n",
    "\\end{array} \\right.\n",
    "$$\n",
    "\n",
    "Zauważ, że $\\mathbf{r}$ może zostać obliczony jako dominujący wektor własny macierzy $\\mathbf{A}$ za pomocą metody potęgowej (dominujący wektor własny $\\mathbf{q_1}$ znormalizowany za pomocą normy $L1$). Przetestuj poprawność obliczeń korzystając z $3$ dowolnych silnie spójnych grafów skierowanych o liczbie wierzchołków większej niż $10$."
   ]
  },
  {
   "cell_type": "markdown",
   "metadata": {},
   "source": [
    "Funkcja zwracająca rangi poszczególnych wierzchołków na podstawie macierzy sąsiedztwa:"
   ]
  },
  {
   "cell_type": "code",
   "execution_count": 9,
   "metadata": {},
   "outputs": [],
   "source": [
    "def pagerank_simple(A):\n",
    "    _, q = np.linalg.eig(A)\n",
    "    \n",
    "    return np.linalg.norm(q, ord=1, axis=1)"
   ]
  },
  {
   "cell_type": "markdown",
   "metadata": {},
   "source": [
    "Funkcja realizująca zadanie dla grafu skierowanego silnie spójnego o $n$ wierzchołkach:"
   ]
  },
  {
   "cell_type": "code",
   "execution_count": 10,
   "metadata": {},
   "outputs": [],
   "source": [
    "def run_pagerank_simple(n, d, steps):\n",
    "    A = generate_graph(n)\n",
    "    AT = transform_graph(A) * d\n",
    "    \n",
    "    ranks = pagerank_simple(AT)\n",
    "    trace, occurences = graph_inspect(A, ranks, steps)\n",
    "    \n",
    "    for node, (rank, occurence) in enumerate(zip(ranks, occurences)):\n",
    "        print(f'node {node}\\t- with rank {rank} \\t- visited {occurence} times')"
   ]
  },
  {
   "cell_type": "markdown",
   "metadata": {},
   "source": [
    "Wynik działania algorytmu dla $n=15$ oraz $d=0.8$:"
   ]
  },
  {
   "cell_type": "code",
   "execution_count": 11,
   "metadata": {},
   "outputs": [
    {
     "name": "stdout",
     "output_type": "stream",
     "text": [
      "node 0\t- with rank 1.1750320840572346 \t- visited 353 times\n",
      "node 1\t- with rank 3.3806094336969843 \t- visited 903 times\n",
      "node 2\t- with rank 2.193180159685662 \t- visited 601 times\n",
      "node 3\t- with rank 3.6214772267485333 \t- visited 966 times\n",
      "node 4\t- with rank 3.325111963136659 \t- visited 885 times\n",
      "node 5\t- with rank 2.0457019319911707 \t- visited 542 times\n",
      "node 6\t- with rank 2.556839064296388 \t- visited 679 times\n",
      "node 7\t- with rank 2.923646371927955 \t- visited 810 times\n",
      "node 8\t- with rank 2.1093538324656573 \t- visited 597 times\n",
      "node 9\t- with rank 3.0118818822369073 \t- visited 806 times\n",
      "node 10\t- with rank 2.4665423341131367 \t- visited 676 times\n",
      "node 11\t- with rank 1.8598505779767287 \t- visited 477 times\n",
      "node 12\t- with rank 1.7378862317639285 \t- visited 458 times\n",
      "node 13\t- with rank 2.311233590723353 \t- visited 609 times\n",
      "node 14\t- with rank 2.365977696801183 \t- visited 639 times\n"
     ]
    }
   ],
   "source": [
    "run_pagerank_simple(15, 0.8, 10000)"
   ]
  },
  {
   "cell_type": "markdown",
   "metadata": {},
   "source": [
    "Wynik działania algorytmu dla $n=15$ oraz $d=0.6$:"
   ]
  },
  {
   "cell_type": "code",
   "execution_count": 12,
   "metadata": {},
   "outputs": [
    {
     "name": "stdout",
     "output_type": "stream",
     "text": [
      "node 0\t- with rank 1.5362757700593097 \t- visited 380 times\n",
      "node 1\t- with rank 2.243866145963325 \t- visited 565 times\n",
      "node 2\t- with rank 2.1216717303352555 \t- visited 492 times\n",
      "node 3\t- with rank 4.184829097227355 \t- visited 943 times\n",
      "node 4\t- with rank 4.139588484753634 \t- visited 947 times\n",
      "node 5\t- with rank 3.2435372555233486 \t- visited 725 times\n",
      "node 6\t- with rank 3.428712250122417 \t- visited 782 times\n",
      "node 7\t- with rank 2.0674835458048197 \t- visited 519 times\n",
      "node 8\t- with rank 2.98929017936799 \t- visited 703 times\n",
      "node 9\t- with rank 2.80831694473335 \t- visited 655 times\n",
      "node 10\t- with rank 2.741615030512363 \t- visited 639 times\n",
      "node 11\t- with rank 3.1557740678874024 \t- visited 711 times\n",
      "node 12\t- with rank 3.427569267031881 \t- visited 801 times\n",
      "node 13\t- with rank 2.7352057792279645 \t- visited 608 times\n",
      "node 14\t- with rank 2.297182216861308 \t- visited 531 times\n"
     ]
    }
   ],
   "source": [
    "run_pagerank_simple(15, 0.6, 10000)"
   ]
  },
  {
   "cell_type": "markdown",
   "metadata": {},
   "source": [
    "Wynik działania algorytmu dla $n=20$ oraz $d=0.6$:"
   ]
  },
  {
   "cell_type": "code",
   "execution_count": 13,
   "metadata": {
    "scrolled": false
   },
   "outputs": [
    {
     "name": "stdout",
     "output_type": "stream",
     "text": [
      "node 0\t- with rank 1.3098889756733305 \t- visited 218 times\n",
      "node 1\t- with rank 2.249749385667339 \t- visited 399 times\n",
      "node 2\t- with rank 3.7113650585613844 \t- visited 619 times\n",
      "node 3\t- with rank 3.836910221038004 \t- visited 638 times\n",
      "node 4\t- with rank 4.087516452615946 \t- visited 683 times\n",
      "node 5\t- with rank 3.739118055359914 \t- visited 650 times\n",
      "node 6\t- with rank 2.1057363349989533 \t- visited 360 times\n",
      "node 7\t- with rank 2.5883456032893046 \t- visited 471 times\n",
      "node 8\t- with rank 2.6477782948901463 \t- visited 430 times\n",
      "node 9\t- with rank 2.2920373349258196 \t- visited 373 times\n",
      "node 10\t- with rank 3.0068087358886424 \t- visited 553 times\n",
      "node 11\t- with rank 2.4496067859612225 \t- visited 388 times\n",
      "node 12\t- with rank 3.1012629563724454 \t- visited 533 times\n",
      "node 13\t- with rank 2.4122334089061104 \t- visited 418 times\n",
      "node 14\t- with rank 2.9536406612877233 \t- visited 478 times\n",
      "node 15\t- with rank 2.4723786983568448 \t- visited 451 times\n",
      "node 16\t- with rank 2.1000675221159315 \t- visited 336 times\n",
      "node 17\t- with rank 4.007160914131948 \t- visited 659 times\n",
      "node 18\t- with rank 3.7812742932628742 \t- visited 648 times\n",
      "node 19\t- with rank 4.00642780920681 \t- visited 696 times\n"
     ]
    }
   ],
   "source": [
    "run_pagerank_simple(20, 0.6, 10000)"
   ]
  },
  {
   "cell_type": "markdown",
   "metadata": {},
   "source": [
    "Wynik działania algorytmu dla $n=25$ oraz $d=0.6$:"
   ]
  },
  {
   "cell_type": "code",
   "execution_count": 14,
   "metadata": {},
   "outputs": [
    {
     "name": "stdout",
     "output_type": "stream",
     "text": [
      "node 0\t- with rank 1.5973117270291588 \t- visited 368 times\n",
      "node 1\t- with rank 1.175713246186684 \t- visited 307 times\n",
      "node 2\t- with rank 2.9391306008665525 \t- visited 688 times\n",
      "node 3\t- with rank 4.471944750750196 \t- visited 1059 times\n",
      "node 4\t- with rank 3.4450917701602815 \t- visited 831 times\n",
      "node 5\t- with rank 4.360735860760785 \t- visited 983 times\n",
      "node 6\t- with rank 4.273569482627378 \t- visited 979 times\n",
      "node 7\t- with rank 4.068647947940198 \t- visited 1008 times\n",
      "node 8\t- with rank 3.5391463886356735 \t- visited 827 times\n",
      "node 9\t- with rank 3.1979371817823066 \t- visited 765 times\n",
      "node 10\t- with rank 3.946562862839041 \t- visited 895 times\n",
      "node 11\t- with rank 2.1928659788853926 \t- visited 499 times\n",
      "node 12\t- with rank 2.987640389462582 \t- visited 696 times\n",
      "node 13\t- with rank 4.887081575364392 \t- visited 1114 times\n",
      "node 14\t- with rank 3.023098604343252 \t- visited 697 times\n",
      "node 15\t- with rank 4.323871319209792 \t- visited 1012 times\n",
      "node 16\t- with rank 5.119805723792004 \t- visited 1212 times\n",
      "node 17\t- with rank 2.358905636947477 \t- visited 555 times\n",
      "node 18\t- with rank 1.5897993078316184 \t- visited 398 times\n",
      "node 19\t- with rank 2.4502684998369535 \t- visited 588 times\n",
      "node 20\t- with rank 2.5198879336203808 \t- visited 584 times\n",
      "node 21\t- with rank 4.0939965528314985 \t- visited 945 times\n",
      "node 22\t- with rank 3.636782750593651 \t- visited 897 times\n",
      "node 23\t- with rank 4.465273680521001 \t- visited 1100 times\n",
      "node 24\t- with rank 4.331774654739338 \t- visited 994 times\n"
     ]
    }
   ],
   "source": [
    "run_pagerank_simple(25, 0.6, 20000)"
   ]
  },
  {
   "cell_type": "markdown",
   "metadata": {},
   "source": [
    "### Zadanie 2: Page Rank\n",
    "\n",
    "Rozszerz model z poprzedniego zadania, dodając możliwość skoku do losowego wierzchołka grafu:\n",
    "\n",
    "$$\\mathbf{r}(u)=d\\sum_{v\\in{B_u}}{\\frac{\\mathbf{r}(v)}{N_v}}+(1-d)\\mathbf{e}(u)$$\n",
    "\n",
    "W zapisie macierzowym:\n",
    "\n",
    "$$\\mathbf{r}=(d\\mathbf{A}+1(1-d)\\mathbf{e}\\otimes\\mathbf{1})\\mathbf{r}$$\n",
    "\n",
    "1. $\\mathbf{r}_0$\n",
    "2. $\\mathtt{do}$\n",
    "3. $\\mathbf{r}_{i+1}=\\mathbf{Br}_i$\n",
    "4. $d=\\lVert\\mathbf{r}_i\\rVert_1-\\lVert\\mathbf{r}_{i+1}\\rVert_1$\n",
    "5. $\\mathbf{r}_{i+1}=\\mathbf{r}_{i+1}+d\\mathbf{e}$\n",
    "6. $\\delta=\\lVert\\mathbf{r}_{i+1}-\\mathbf{r}_i\\rVert_1$\n",
    "7. $\\mathtt{while}$ $\\delta>\\epsilon$\n",
    "\n",
    "Przetestuj działanie zaimplementowanego algorytmu Page Rank dla wybranych grafów\n",
    "z bazy SNAP. Przetestuj różne wartości parametru $d$ $(0.9, 0.85, 0.75, 0.6, 0.5)$ oraz różne\n",
    "postacie wektora $\\mathbf{e}$, przykładowo $\\mathbf{e}=\\frac{1}{n}[1,1,...,1]$."
   ]
  },
  {
   "cell_type": "markdown",
   "metadata": {},
   "source": [
    "Funkcja zwracająca rangi wierzchołków na podstawie zadanych parametrów. Obliczenia są wykonywane na podstawie wzoru:\n",
    "\n",
    "$$\\mathbf{r}=(d\\mathbf{A}+1(1-d)\\mathbf{e}\\otimes\\mathbf{1})\\mathbf{r}$$"
   ]
  },
  {
   "cell_type": "code",
   "execution_count": 15,
   "metadata": {},
   "outputs": [],
   "source": [
    "def pagerank_ext(A, d, e, iterations=30):\n",
    "    n = len(A)\n",
    "    dAe = d * A + np.kron(np.linalg.norm((1 - d) * e, 1), np.ones(n))\n",
    "    \n",
    "    r = np.random.rand(n, 1)\n",
    "    for i in range(iterations):\n",
    "        r = dAe @ r\n",
    "    \n",
    "    return r.flatten()"
   ]
  },
  {
   "cell_type": "markdown",
   "metadata": {},
   "source": [
    "Wszystkie testy zostaną wykonane na grafie z bazy SNAP, który jest umieszczony w pliku $\\mathtt{p2p-gnutella.txt}$:\n",
    "\n",
    "Ze względu na fakt, iż testowany graf jest grafem rzadkim i przechodzenie do kolejnych wierzchołków z uwzględnieniem ewentualnych powrotów w momencie ślepego zaułka jest mało efektywne - wynikami testów będą rangi pierwszych pięciu wierzchołków"
   ]
  },
  {
   "cell_type": "code",
   "execution_count": 16,
   "metadata": {},
   "outputs": [],
   "source": [
    "A = load_graph('p2p-gnutella.txt')\n",
    "n = len(A)"
   ]
  },
  {
   "cell_type": "markdown",
   "metadata": {},
   "source": [
    "Test dla wektora $\\mathbf{e}=\\frac{1}{n}[1,1,...,1]$ oraz parametru $d=0.9$:"
   ]
  },
  {
   "cell_type": "code",
   "execution_count": 17,
   "metadata": {},
   "outputs": [
    {
     "name": "stdout",
     "output_type": "stream",
     "text": [
      "node 0\t- with rank 5.353129648120256e+55\n",
      "node 1\t- with rank 5.277468965679694e+55\n",
      "node 2\t- with rank 5.277468965679694e+55\n",
      "node 3\t- with rank 5.352828349732102e+55\n",
      "node 4\t- with rank 5.352689038013629e+55\n"
     ]
    }
   ],
   "source": [
    "e = np.ones(n) / n\n",
    "d = 0.9\n",
    "\n",
    "for node, rank in enumerate(pagerank_ext(A, d, e, iterations=20)[0:5]):\n",
    "    print(f'node {node}\\t- with rank {rank}')"
   ]
  },
  {
   "cell_type": "markdown",
   "metadata": {},
   "source": [
    "Test dla wektora $\\mathbf{e}=\\frac{1}{n}[1,1,...,1]$ oraz parametru $d=0.8$:"
   ]
  },
  {
   "cell_type": "code",
   "execution_count": 18,
   "metadata": {},
   "outputs": [
    {
     "name": "stdout",
     "output_type": "stream",
     "text": [
      "node 0\t- with rank 1.7415042888031955e+59\n",
      "node 1\t- with rank 1.7259460387669562e+59\n",
      "node 2\t- with rank 1.7259460387669562e+59\n",
      "node 3\t- with rank 1.7414652172094685e+59\n",
      "node 4\t- with rank 1.7414471238276405e+59\n"
     ]
    }
   ],
   "source": [
    "e = np.ones(n) / n\n",
    "d = 0.85\n",
    "\n",
    "for node, rank in enumerate(pagerank_ext(A, d, e, iterations=20)[0:5]):\n",
    "    print(f'node {node}\\t- with rank {rank}')"
   ]
  },
  {
   "cell_type": "markdown",
   "metadata": {},
   "source": [
    "Test dla wektora $\\mathbf{e}=\\frac{1}{n}[1,1,...,1]$ oraz parametru $d=0.75$:"
   ]
  },
  {
   "cell_type": "code",
   "execution_count": 19,
   "metadata": {},
   "outputs": [
    {
     "name": "stdout",
     "output_type": "stream",
     "text": [
      "node 0\t- with rank 4.572706187189471e+63\n",
      "node 1\t- with rank 4.5510112942292484e+63\n",
      "node 2\t- with rank 4.5510112942292484e+63\n",
      "node 3\t- with rank 4.572677306735847e+63\n",
      "node 4\t- with rank 4.572663916316188e+63\n"
     ]
    }
   ],
   "source": [
    "e = np.ones(n) / n\n",
    "d = 0.75\n",
    "\n",
    "for node, rank in enumerate(pagerank_ext(A, d, e, iterations=20)[0:5]):\n",
    "    print(f'node {node}\\t- with rank {rank}')"
   ]
  },
  {
   "cell_type": "markdown",
   "metadata": {},
   "source": [
    "Test dla wektora $\\mathbf{e}=\\frac{1}{n}[1,1,...,1]$ oraz parametru $d=0.6$:"
   ]
  },
  {
   "cell_type": "code",
   "execution_count": 20,
   "metadata": {},
   "outputs": [
    {
     "name": "stdout",
     "output_type": "stream",
     "text": [
      "node 0\t- with rank 5.447794504384264e+67\n",
      "node 1\t- with rank 5.434848426704947e+67\n",
      "node 2\t- with rank 5.434848426704947e+67\n",
      "node 3\t- with rank 5.447785881230345e+67\n",
      "node 4\t- with rank 5.447781880361939e+67\n"
     ]
    }
   ],
   "source": [
    "e = np.ones(n) / n\n",
    "d = 0.6\n",
    "\n",
    "for node, rank in enumerate(pagerank_ext(A, d, e, iterations=20)[0:5]):\n",
    "    print(f'node {node}\\t- with rank {rank}')"
   ]
  },
  {
   "cell_type": "markdown",
   "metadata": {},
   "source": [
    "Test dla wektora $\\mathbf{e}=\\frac{1}{n}[1,1,...,1]$ oraz parametru $d=0.5$:"
   ]
  },
  {
   "cell_type": "code",
   "execution_count": 21,
   "metadata": {},
   "outputs": [
    {
     "name": "stdout",
     "output_type": "stream",
     "text": [
      "node 0\t- with rank 4.749459801357504e+69\n",
      "node 1\t- with rank 4.741931012836553e+69\n",
      "node 2\t- with rank 4.741931012836553e+69\n",
      "node 3\t- with rank 4.749456457362048e+69\n",
      "node 4\t- with rank 4.7494549055005586e+69\n"
     ]
    }
   ],
   "source": [
    "e = np.ones(n) / n\n",
    "d = 0.5\n",
    "\n",
    "for node, rank in enumerate(pagerank_ext(A, d, e, iterations=20)[0:5]):\n",
    "    print(f'node {node}\\t- with rank {rank}')"
   ]
  },
  {
   "cell_type": "markdown",
   "metadata": {},
   "source": [
    "Test dla wektora $\\mathbf{e}=\\frac{1}{n^2}[1,1,...,1]$ oraz parametru $d=0.8$:"
   ]
  },
  {
   "cell_type": "code",
   "execution_count": 22,
   "metadata": {},
   "outputs": [
    {
     "name": "stdout",
     "output_type": "stream",
     "text": [
      "node 0\t- with rank 4421336089788.077\n",
      "node 1\t- with rank 40710029847.785065\n",
      "node 2\t- with rank 40710029847.785065\n",
      "node 3\t- with rank 1401662791609.9731\n",
      "node 4\t- with rank 1440487757145.58\n"
     ]
    }
   ],
   "source": [
    "e = np.ones(n) / (n * n)\n",
    "d = 0.8\n",
    "\n",
    "for node, rank in enumerate(pagerank_ext(A, d, e, iterations=20)[0:5]):\n",
    "    print(f'node {node}\\t- with rank {rank}')"
   ]
  },
  {
   "cell_type": "markdown",
   "metadata": {},
   "source": [
    "Test dla wektora $\\mathbf{e}=\\frac{1}{n^3}[1,1,...,1]$ oraz parametru $d=0.8$:"
   ]
  },
  {
   "cell_type": "code",
   "execution_count": 23,
   "metadata": {},
   "outputs": [
    {
     "name": "stdout",
     "output_type": "stream",
     "text": [
      "node 0\t- with rank 2739291773585.8223\n",
      "node 1\t- with rank 3834622.1273957463\n",
      "node 2\t- with rank 3834622.1273957463\n",
      "node 3\t- with rank 786119818916.7188\n",
      "node 4\t- with rank 838430657583.3915\n"
     ]
    }
   ],
   "source": [
    "e = np.ones(n) / (n * n * n)\n",
    "d = 0.8\n",
    "\n",
    "for node, rank in enumerate(pagerank_ext(A, d, e, iterations=20)[0:5]):\n",
    "    print(f'node {node}\\t- with rank {rank}')"
   ]
  },
  {
   "cell_type": "markdown",
   "metadata": {},
   "source": [
    "Test dla wektora $\\mathbf{e}=\\sqrt{n}[1,1,...,1]$ oraz parametru $d=0.8$:"
   ]
  },
  {
   "cell_type": "code",
   "execution_count": 24,
   "metadata": {},
   "outputs": [
    {
     "name": "stdout",
     "output_type": "stream",
     "text": [
      "node 0\t- with rank 4.8146043273677044e+175\n",
      "node 1\t- with rank 4.814604266259871e+175\n",
      "node 2\t- with rank 4.814604266259871e+175\n",
      "node 3\t- with rank 4.8146043273677044e+175\n",
      "node 4\t- with rank 4.8146043273677044e+175\n"
     ]
    }
   ],
   "source": [
    "e = np.ones(n) * math.sqrt(n)\n",
    "d = 0.8\n",
    "\n",
    "for node, rank in enumerate(pagerank_ext(A, d, e, iterations=20)[0:5]):\n",
    "    print(f'node {node}\\t- with rank {rank}')"
   ]
  },
  {
   "cell_type": "markdown",
   "metadata": {},
   "source": [
    "Test dla wektora $\\mathbf{e}=\\frac{\\sqrt{n}}{n}[1,1,...,1]$ oraz parametru $d=0.8$:"
   ]
  },
  {
   "cell_type": "code",
   "execution_count": 25,
   "metadata": {},
   "outputs": [
    {
     "name": "stdout",
     "output_type": "stream",
     "text": [
      "node 0\t- with rank 5.051461041432011e+99\n",
      "node 1\t- with rank 5.051057082618742e+99\n",
      "node 2\t- with rank 5.051057082618742e+99\n",
      "node 3\t- with rank 5.051461032386556e+99\n",
      "node 4\t- with rank 5.051461028186977e+99\n"
     ]
    }
   ],
   "source": [
    "e = np.ones(n) * math.sqrt(n) / n\n",
    "d = 0.8\n",
    "\n",
    "for node, rank in enumerate(pagerank_ext(A, d, e, iterations=20)[0:5]):\n",
    "    print(f'node {node}\\t- with rank {rank}')"
   ]
  },
  {
   "cell_type": "markdown",
   "metadata": {},
   "source": [
    "Jak można zauważyć wartości rang wierzchołków zmieniają się zarówno poprzez zmianę parametru $d$ jak i zmianę wektora $\\mathbf{e}$."
   ]
  }
 ],
 "metadata": {
  "kernelspec": {
   "display_name": "Python 3",
   "language": "python",
   "name": "python3"
  },
  "language_info": {
   "codemirror_mode": {
    "name": "ipython",
    "version": 3
   },
   "file_extension": ".py",
   "mimetype": "text/x-python",
   "name": "python",
   "nbconvert_exporter": "python",
   "pygments_lexer": "ipython3",
   "version": "3.7.5"
  }
 },
 "nbformat": 4,
 "nbformat_minor": 4
}
