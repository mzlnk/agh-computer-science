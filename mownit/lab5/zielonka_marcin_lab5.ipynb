{
 "cells": [
  {
   "cell_type": "markdown",
   "metadata": {},
   "source": [
    "##### Metody obliczeniowe w nauce i technice\n",
    "\n",
    "## Laboratorium 5 - Równania nieliniowe\n",
    "\n",
    "### Sprawozdanie sporządził: Marcin Zielonka"
   ]
  },
  {
   "cell_type": "markdown",
   "metadata": {},
   "source": [
    "### Wstęp"
   ]
  },
  {
   "cell_type": "markdown",
   "metadata": {},
   "source": [
    "Do realizacji zadań skorzystam z gotowych funkcjonalności zawartych w bibliotekach:\n",
    "\n",
    "* `mpmath`\n",
    "* `matplotlib`"
   ]
  },
  {
   "cell_type": "code",
   "execution_count": 20,
   "metadata": {},
   "outputs": [],
   "source": [
    "from mpmath import *\n",
    "from matplotlib import pyplot as plt"
   ]
  },
  {
   "cell_type": "markdown",
   "metadata": {},
   "source": [
    "Dodatkowo, do sprawdzenia napisanych algorytmów użyję poniższych funkcji testowych:\n",
    "\n",
    "* $f_1(x)=\\cos(x)\\cosh(x)-1$, $[\\frac{3}{2}\\pi,2\\pi]$\n",
    "* $f_2(x)=\\frac{1}{x}-\\tan(x)$, $[0,\\frac{\\pi}{2}]$\n",
    "* $f_3(x)=2^{-x}+e^x+2\\cos(x)-6$, $[1,3]$"
   ]
  },
  {
   "cell_type": "code",
   "execution_count": 21,
   "metadata": {},
   "outputs": [],
   "source": [
    "def f1(x):\n",
    "    return cos(x) * cosh(x)-1"
   ]
  },
  {
   "cell_type": "code",
   "execution_count": 22,
   "metadata": {},
   "outputs": [],
   "source": [
    "def f2(x):\n",
    "    return 1/x - tan(x)"
   ]
  },
  {
   "cell_type": "code",
   "execution_count": 23,
   "metadata": {},
   "outputs": [],
   "source": [
    "def f3(x):\n",
    "    return pow(2, -x) + exp(x) + 2 * cos(x) - 6"
   ]
  },
  {
   "cell_type": "markdown",
   "metadata": {},
   "source": [
    "Dla zminimalizowania ilości kodu, wyodrębnię funkcję rysujacą wykres danej funkcji w danym przedziale:"
   ]
  },
  {
   "cell_type": "code",
   "execution_count": 24,
   "metadata": {},
   "outputs": [],
   "source": [
    "def show_function_diagram(function, valFrom, valTo, points, y_top = None, y_bottom = None):\n",
    "    plot_x = linspace(valFrom, valTo, 1000)\n",
    "    plot_y = list(map(function, plot_x))\n",
    "    \n",
    "    plt.plot(plot_x, plot_y)\n",
    "    plt.grid()\n",
    "    \n",
    "    if y_top != None:\n",
    "        plt.ylim(top=y_top)\n",
    "    \n",
    "    if y_bottom != None:\n",
    "        plt.ylim(bottom=y_bottom)\n",
    "    \n",
    "    for x, y in points:\n",
    "        plt.scatter(x, y)\n",
    "    \n",
    "    plt.show()"
   ]
  },
  {
   "cell_type": "markdown",
   "metadata": {},
   "source": [
    "### Zadanie 1: Metoda bisekcji"
   ]
  },
  {
   "cell_type": "markdown",
   "metadata": {},
   "source": [
    "Napisz funkcję realizującą metodę bisekcji dla danej funkcji f w oparciu o arytmetykę o\n",
    "zmiennej precyzji (`mpmath.mpf`). Funkcja przyjmuje następujące argumenty:\n",
    "\n",
    "* Minimalną precyzję obliczeń (liczba cyfr znaczących)\n",
    "* Krańce przedziału\n",
    "* Błąd bezwzględny obliczeń\n",
    "\n",
    "Funkcja ma zwracać wyznaczone miejsce zerowe, wyliczoną wartość w miejscu zerowym oraz liczbę iteracji potrzebną do uzyskania określonej dokładności. Przetestuj działanie metody dla funkcji podanych na początku instrukcji. Jaka liczba iteracji jest potrzebna do uzyskania bezwzględnej dokładności rzędu: $10^{−7}$, $10^{−15}$, $10^{−33}$? W jaki sposób możemy obliczyć k pierwszych dodatnich pierwiastków funkcji $f_1(x)$?"
   ]
  },
  {
   "cell_type": "code",
   "execution_count": 25,
   "metadata": {},
   "outputs": [],
   "source": [
    "def bisec(function, min_precision, val_from, val_to, epsilon):\n",
    "    mp.dps = min_precision\n",
    "    \n",
    "    x = val_from\n",
    "        \n",
    "    iterations = 0\n",
    "    \n",
    "    if function(val_from) * function(val_to) > 0:\n",
    "        return None\n",
    "    \n",
    "    while((val_to - val_from) >= epsilon):\n",
    "        iterations += 1\n",
    "                \n",
    "        x = (val_from + val_to) / 2\n",
    "        \n",
    "        if function(x) == 0:\n",
    "            break\n",
    "        elif function(x) * function(val_from) < 0:\n",
    "            val_to = x\n",
    "        else:\n",
    "            val_from = x\n",
    "            \n",
    "    return x, function(x), iterations\n"
   ]
  },
  {
   "cell_type": "code",
   "execution_count": 26,
   "metadata": {
    "scrolled": false
   },
   "outputs": [
    {
     "name": "stdout",
     "output_type": "stream",
     "text": [
      "Bisection method for function 1 with epsilon: 0.0000000999999999999999954748111825886259:\n",
      "x: 4.730041, y: 2.518296e-6, iterations: 24\n",
      "\n",
      "Bisection method for function 1 with epsilon: 1.0e-15:\n",
      "x: 4.7300407448627, y: 3.574918139293e-14, iterations: 51\n",
      "\n",
      "Bisection method for function 1 with epsilon: 1.0e-33:\n",
      "x: 4.73004074486270402602404810083388, y: -4.33334237487128066937595037081609e-33, iterations: 111\n",
      "\n"
     ]
    },
    {
     "data": {
      "image/png": "[encoded data removed]",
      "text/plain": [
       "<Figure size 432x288 with 1 Axes>"
      ]
     },
     "metadata": {
      "needs_background": "light"
     },
     "output_type": "display_data"
    },
    {
     "name": "stdout",
     "output_type": "stream",
     "text": [
      "Bisection method for function 2 with epsilon: 0.0000000999999999999999954748111825886259:\n",
      "x: 0.8603335, y: 1.639128e-7, iterations: 24\n",
      "\n",
      "Bisection method for function 2 with epsilon: 1.0e-15:\n",
      "x: 0.86033358901938, y: 1.11022302462516e-15, iterations: 51\n",
      "\n",
      "Bisection method for function 2 with epsilon: 1.0e-33:\n",
      "x: 0.860333589019379762483893424137662, y: 1.54074395550978868244478235406794e-33, iterations: 111\n",
      "\n"
     ]
    },
    {
     "data": {
      "image/png": "[encoded data removed]",
      "text/plain": [
       "<Figure size 432x288 with 1 Axes>"
      ]
     },
     "metadata": {
      "needs_background": "light"
     },
     "output_type": "display_data"
    },
    {
     "name": "stdout",
     "output_type": "stream",
     "text": [
      "Bisection method for function 3 with epsilon: 0.0000000999999999999999954748111825886259:\n",
      "x: 1.829384, y: 0.0, iterations: 23\n",
      "\n",
      "Bisection method for function 3 with epsilon: 1.0e-15:\n",
      "x: 1.82938360193385, y: 2.66453525910038e-15, iterations: 51\n",
      "\n",
      "Bisection method for function 3 with epsilon: 1.0e-33:\n",
      "x: 1.82938360193384881713621294681415, y: 7.70371977754894341222391177033971e-34, iterations: 111\n",
      "\n"
     ]
    },
    {
     "data": {
      "image/png": "[encoded data removed]",
      "text/plain": [
       "<Figure size 432x288 with 1 Axes>"
      ]
     },
     "metadata": {
      "needs_background": "light"
     },
     "output_type": "display_data"
    }
   ],
   "source": [
    "functions = [\n",
    "    (f1, mpf(3 / 2 * pi), mpf(2 * pi), 3, 5), \n",
    "    (f2, mpf(1e-33), mpf(pi / 2), 0.7, 1.1), \n",
    "    (f3, mpf(1), mpf(3), 1.25, 2.5)\n",
    "]\n",
    "\n",
    "epsilons = [\n",
    "    (7, mpf(1e-7)), \n",
    "    (15, mpf(1e-15)), \n",
    "    (33, mpf(1e-33))\n",
    "]\n",
    "\n",
    "for idx, data in enumerate(functions):\n",
    "    function, val_from, val_to, plot_x_from, plot_x_to = data\n",
    "                                               \n",
    "    for idx_2, data in enumerate(epsilons):\n",
    "        precission, epsilon = data\n",
    "        print(f'Bisection method for function {idx + 1} with epsilon: {epsilon}:')\n",
    "        \n",
    "        x, y, iterations = bisec(function, precission, val_from, val_to, epsilon)\n",
    "        \n",
    "        print(f'x: {x}, y: {y}, iterations: {iterations}\\n')\n",
    "        \n",
    "        if idx_2 == 2:\n",
    "            show_function_diagram(function, plot_x_from, plot_x_to, [(x, y)])"
   ]
  },
  {
   "cell_type": "markdown",
   "metadata": {},
   "source": [
    "Aby obliczyć minimalną liczbę iteracji potrzebną do uzyskania bezwzględnej dokładności $\\epsilon$, skorzystamy ze wzoru na błąd bezwględny po $N$ próbach:\n",
    "\n",
    "$$|x_{true}-x_N| \\le \\frac{b-a}{2^{N+1}}$$\n",
    "\n",
    "Następnie przekształcając wzór otrzymamy:\n",
    "\n",
    "$$\\frac{\\ln(\\frac{b-a}{\\epsilon})}{\\ln(2)} - 1 < N$$"
   ]
  },
  {
   "cell_type": "code",
   "execution_count": 27,
   "metadata": {},
   "outputs": [],
   "source": [
    "def get_min_iterations(val_from, val_to, epsilon):\n",
    "    return int(ceil(log((val_to - val_from) / epsilon) / log(2) - 1))"
   ]
  },
  {
   "cell_type": "code",
   "execution_count": 28,
   "metadata": {
    "scrolled": false
   },
   "outputs": [
    {
     "name": "stdout",
     "output_type": "stream",
     "text": [
      "  val_from: 4.71238898038468985769396507491925 \n",
      "    val_to: 6.28318530717958647692528676655901\n",
      "   epsilon: 0.0000000999999999999999954748111825886259\n",
      "iterations: 23\n",
      "\n",
      "  val_from: 4.71238898038468985769396507491925 \n",
      "    val_to: 6.28318530717958647692528676655901\n",
      "   epsilon: 1.00000000000000007770539987666108e-15\n",
      "iterations: 50\n",
      "\n",
      "  val_from: 4.71238898038468985769396507491925 \n",
      "    val_to: 6.28318530717958647692528676655901\n",
      "   epsilon: 1.0000000000000000559673099762419e-33\n",
      "iterations: 110\n",
      "\n",
      "  val_from: 1.0000000000000000559673099762419e-33 \n",
      "    val_to: 1.57079632679489661923132169163975\n",
      "   epsilon: 0.0000000999999999999999954748111825886259\n",
      "iterations: 23\n",
      "\n",
      "  val_from: 1.0000000000000000559673099762419e-33 \n",
      "    val_to: 1.57079632679489661923132169163975\n",
      "   epsilon: 1.00000000000000007770539987666108e-15\n",
      "iterations: 50\n",
      "\n",
      "  val_from: 1.0000000000000000559673099762419e-33 \n",
      "    val_to: 1.57079632679489661923132169163975\n",
      "   epsilon: 1.0000000000000000559673099762419e-33\n",
      "iterations: 110\n",
      "\n",
      "  val_from: 1.0 \n",
      "    val_to: 3.0\n",
      "   epsilon: 0.0000000999999999999999954748111825886259\n",
      "iterations: 24\n",
      "\n",
      "  val_from: 1.0 \n",
      "    val_to: 3.0\n",
      "   epsilon: 1.00000000000000007770539987666108e-15\n",
      "iterations: 50\n",
      "\n",
      "  val_from: 1.0 \n",
      "    val_to: 3.0\n",
      "   epsilon: 1.0000000000000000559673099762419e-33\n",
      "iterations: 110\n",
      "\n"
     ]
    }
   ],
   "source": [
    "bounds = [\n",
    "    (mpf(3 / 2 * pi), mpf(2 * pi)),\n",
    "    (mpf(1e-33), mpf(pi / 2)),\n",
    "    (mpf(1), mpf(3))\n",
    "]\n",
    "\n",
    "epsilons = [mpf(1e-7), mpf(1e-15), mpf(1e-33)]\n",
    "\n",
    "for val_from, val_to in bounds:\n",
    "    for epsilon in epsilons:\n",
    "        print(f'  val_from: {val_from} \\n    val_to: {val_to}\\n   epsilon: {epsilon}\\niterations: {get_min_iterations(val_from, val_to, epsilon)}\\n')"
   ]
  },
  {
   "cell_type": "markdown",
   "metadata": {},
   "source": [
    "Aby obliczyć k pierwszych dodatnich pierwiastków funkcji $f_1(x)$ warto przeanalizować jak wygląda wykres funkcji $f_1$:"
   ]
  },
  {
   "cell_type": "code",
   "execution_count": 29,
   "metadata": {},
   "outputs": [
    {
     "data": {
      "image/png": "[encoded data removed]",
      "text/plain": [
       "<Figure size 432x288 with 1 Axes>"
      ]
     },
     "metadata": {
      "needs_background": "light"
     },
     "output_type": "display_data"
    }
   ],
   "source": [
    "show_function_diagram(f1, 0, 50, [], 10, -10)"
   ]
  },
  {
   "cell_type": "markdown",
   "metadata": {},
   "source": [
    "Możemy zauważyć, że poprzez wykonanie bisekcji na kolejnych przedziałach $[x, x+1]$ począwszy od $0$ jesteśmy w stanie znaleźć $k$ kolejnych dodatnich pierwiastków funkcji $f_1$"
   ]
  },
  {
   "cell_type": "code",
   "execution_count": 30,
   "metadata": {},
   "outputs": [],
   "source": [
    "def get_roots(function, k):\n",
    "    all_roots = []\n",
    "    \n",
    "    x = 0\n",
    "    while len(all_roots) < k:\n",
    "        result = bisec(function, 20, mpf(x), mpf(x + 1), mpf(1e-15))\n",
    "        \n",
    "        if result != None:\n",
    "            root_x, root_y, iterations = result\n",
    "            all_roots.append((root_x, root_y))\n",
    "        \n",
    "        x += 1\n",
    "    \n",
    "    return all_roots"
   ]
  },
  {
   "cell_type": "code",
   "execution_count": 31,
   "metadata": {},
   "outputs": [
    {
     "name": "stdout",
     "output_type": "stream",
     "text": [
      "x: 0.99999999999999911182, y: -0.16626997486885036182\n",
      "x: 4.7300407448627046492, y: 3.5921293405614430905e-14\n",
      "x: 7.8532046240958370831, y: 6.0878732610625263533e-13\n",
      "x: 10.995607838001670409, y: -1.4839897268077923472e-11\n",
      "x: 14.137165491257463579, y: 4.1269934050855352353e-10\n",
      "x: 17.278759657399480609, y: -1.3227953009030435935e-8\n",
      "x: 20.420352245626060217, y: 3.2280142227981476854e-7\n",
      "x: 23.56194490204045433, y: -6.3666189089550395336e-6\n",
      "x: 26.703537555508186863, y: -0.00012146814437427757129\n",
      "x: 29.845130209103253982, y: -0.0013041147802836115961\n"
     ]
    },
    {
     "data": {
      "image/png": "[encoded data removed]",
      "text/plain": [
       "<Figure size 432x288 with 1 Axes>"
      ]
     },
     "metadata": {
      "needs_background": "light"
     },
     "output_type": "display_data"
    }
   ],
   "source": [
    "roots = get_roots(f1, 10)\n",
    "\n",
    "for x, y in roots:\n",
    "    print(f'x: {x}, y: {y}')\n",
    "    \n",
    "show_function_diagram(f1, 0, 30, roots, 5, -5)"
   ]
  },
  {
   "cell_type": "markdown",
   "metadata": {},
   "source": [
    "### Zadanie 2: Metoda Newtona"
   ]
  },
  {
   "cell_type": "markdown",
   "metadata": {},
   "source": [
    "Napisz funkcję realizującą metodę Newtona w oparciu o arytmetykę o zmiennej precyzji (`mpmath.mpf`). Funkcja ma wykorzystywać dwa kryteria stopu:\n",
    "\n",
    "* maksymalną liczbę iteracji\n",
    "* • moduł różnicy kolejnych przybliżeń mniejszy od danej wartości $\\epsilon$\n",
    "\n",
    "Oprócz przybliżonej wartości pierwiastka funkcja ma zwrócić liczbę iteracji potrzebną do uzyskania określonej dokładności ε. Przetestuj działanie metody dla funkcji podanych na początku instrukcji (dodatkowo dostępne pochodne tych funkcji). Porównaj zbieżność metody ze zbieżnością uzyskaną dla metody bisekcji."
   ]
  },
  {
   "cell_type": "markdown",
   "metadata": {},
   "source": [
    "Na potrzeby zadania definiuję również pierwsze pochodne wcześniej wspomnianych funkcji testowych:\n",
    "\n",
    "* $\\frac{\\partial}{\\partial x}f_1(x) = \\cos(x)\\sinh(x) - \\sin(x)\\cosh(x)$\n",
    "* $\\frac{\\partial}{\\partial x}f_2(x) = -\\frac{1}{x^2} - \\frac{1}{\\cos^2(x)}$\n",
    "* $\\frac{\\partial}{\\partial x}f_3(x) = e^x - 2^{-x}\\log(2) - 2\\sin(x)$"
   ]
  },
  {
   "cell_type": "code",
   "execution_count": 32,
   "metadata": {},
   "outputs": [],
   "source": [
    "def d_f1(x):\n",
    "    return cos(x) * sinh(x) - sin(x) * cosh(x)"
   ]
  },
  {
   "cell_type": "code",
   "execution_count": 33,
   "metadata": {},
   "outputs": [],
   "source": [
    "def d_f2(x):\n",
    "    return -1 / pow(x, 2) - (1 / pow(cos(x), 2))"
   ]
  },
  {
   "cell_type": "code",
   "execution_count": 34,
   "metadata": {},
   "outputs": [],
   "source": [
    "def d_f3(x):\n",
    "    return exp(x) - pow(2, -x) * log(2) - 2 * sin(x)"
   ]
  },
  {
   "cell_type": "code",
   "execution_count": 35,
   "metadata": {},
   "outputs": [],
   "source": [
    "def newton(function, derivative, min_precision, val_from, val_to, epsilon, max_iterations):\n",
    "    mp.dps = min_precision\n",
    "\n",
    "    prev_x = val_from\n",
    "    x = val_from\n",
    "    iterations = 0\n",
    "    \n",
    "    while True:   \n",
    "        iterations += 1\n",
    "        \n",
    "        fx = function(x)\n",
    "        dx = derivative(x)\n",
    "        \n",
    "        if dx == 0:\n",
    "            print('Derivative equals zero')\n",
    "            return None\n",
    "        \n",
    "        prev_x = x\n",
    "        x = x - fx / dx\n",
    "        \n",
    "        if abs(x - prev_x) <= epsilon:\n",
    "            return x, function(x), iterations\n",
    "        \n",
    "        if iterations > max_iterations:\n",
    "            print('Max iterations exceeded')\n",
    "            return None"
   ]
  },
  {
   "cell_type": "code",
   "execution_count": 36,
   "metadata": {
    "scrolled": false
   },
   "outputs": [
    {
     "name": "stdout",
     "output_type": "stream",
     "text": [
      "Newton method for function 1 with epsilon: 9.9999999999999995475e-8:\n",
      "x: 4.730041, y: -9.164214e-7, iterations: 4\n",
      "\n",
      "Newton method for function 1 with epsilon: 1.0e-15:\n",
      "x: 4.7300407448627, y: -1.53210777398272e-14, iterations: 5\n",
      "\n",
      "Newton method for function 1 with epsilon: 1.0e-33:\n",
      "x: 4.73004074486270402602404810083388, y: -4.33334237487128066937595037081609e-33, iterations: 6\n",
      "\n"
     ]
    },
    {
     "data": {
      "image/png": "[encoded data removed]",
      "text/plain": [
       "<Figure size 432x288 with 1 Axes>"
      ]
     },
     "metadata": {
      "needs_background": "light"
     },
     "output_type": "display_data"
    },
    {
     "name": "stdout",
     "output_type": "stream",
     "text": [
      "Newton method for function 2 with epsilon: 0.0000000999999999999999954748111825886259:\n",
      "x: 0.8603336, y: 0.0, iterations: 13\n",
      "\n",
      "Newton method for function 2 with epsilon: 1.0e-15:\n",
      "x: 0.86033358901938, y: 0.0, iterations: 14\n",
      "\n",
      "Newton method for function 2 with epsilon: 1.0e-33:\n",
      "x: 0.860333589019379762483893424137662, y: 1.92592994438723585305597794258493e-34, iterations: 15\n",
      "\n"
     ]
    },
    {
     "data": {
      "image/png": "[encoded data removed]",
      "text/plain": [
       "<Figure size 432x288 with 1 Axes>"
      ]
     },
     "metadata": {
      "needs_background": "light"
     },
     "output_type": "display_data"
    },
    {
     "name": "stdout",
     "output_type": "stream",
     "text": [
      "Newton method for function 3 with epsilon: 0.0000000999999999999999954748111825886259:\n",
      "x: 1.829384, y: 0.0, iterations: 8\n",
      "\n",
      "Newton method for function 3 with epsilon: 1.0e-15:\n",
      "x: 1.82938360193385, y: 0.0, iterations: 9\n",
      "\n",
      "Newton method for function 3 with epsilon: 1.0e-33:\n",
      "x: 1.82938360193384881713621294681415, y: 0.0, iterations: 10\n",
      "\n"
     ]
    },
    {
     "data": {
      "image/png": "[encoded data removed]",
      "text/plain": [
       "<Figure size 432x288 with 1 Axes>"
      ]
     },
     "metadata": {
      "needs_background": "light"
     },
     "output_type": "display_data"
    }
   ],
   "source": [
    "functions = [\n",
    "    (f1, d_f1, mpf(3 / 2 * pi), mpf(2 * pi), 3, 5), \n",
    "    (f2, d_f2, mpf(0.001), mpf(pi / 2), 0.7, 1.1), \n",
    "    (f3, d_f3, mpf(1), mpf(3), 1.25, 2.5)\n",
    "]\n",
    "\n",
    "epsilons = [\n",
    "    (7, mpf(1e-7)), \n",
    "    (15, mpf(1e-15)), \n",
    "    (33, mpf(1e-33))\n",
    "]\n",
    "\n",
    "for idx, data in enumerate(functions):\n",
    "    function, derivative, val_from, val_to, plot_x_from, plot_x_to = data\n",
    "    \n",
    "    for idx_2, data in enumerate(epsilons):\n",
    "        precission, epsilon = data\n",
    "        print(f'Newton method for function {idx + 1} with epsilon: {epsilon}:')\n",
    "        \n",
    "        result = newton(function, derivative, precission, val_from, val_to, epsilon, 200)\n",
    "        \n",
    "        if result == None:\n",
    "            print('Solution not found\\n')\n",
    "            continue\n",
    "        \n",
    "        x, y, iterations = result\n",
    "        \n",
    "        print(f'x: {x}, y: {y}, iterations: {iterations}\\n')\n",
    "        \n",
    "        if idx_2 == 2:\n",
    "            show_function_diagram(function, plot_x_from, plot_x_to, [(x, y)])"
   ]
  },
  {
   "cell_type": "markdown",
   "metadata": {},
   "source": [
    "#### Porównanie zbieżności metody Newtona z metoda bisekcji:"
   ]
  },
  {
   "cell_type": "markdown",
   "metadata": {},
   "source": [
    "Porównanie dla wyników metod dla funkcji $f_1$:\n",
    "\n",
    "* 7 miejsc znaczących:\n",
    "  * metoda bisekcji: 4.730041 (24)\n",
    "  * metoda newtona:  4.730041 (4)\n",
    "\n",
    "\n",
    "* 15 miejsc znaczących:\n",
    "  * metoda bisekcji: 4.7300407448627 (51)\n",
    "  * metoda newtona:  4.7300407448627 (5)\n",
    "  \n",
    "  \n",
    "* 33 miejsca znaczące:\n",
    "  * metoda bisekcji: 4.73004074486270402602404810083388 (111)\n",
    "  * metoda newtona:  4.73004074486270402602404810083388 (6)\n",
    "  \n",
    "\n",
    "Porównujac wyniki dla wszystkich sprawdzanych dokładności, widać, że obie metody dają identyczne wyniki. Widzimy również, że metoda Newtona wymaga o wiele mniejszej ilości iteracji w porównaniu do metody bisekcji, aby otrzymać żądany wynik."
   ]
  },
  {
   "cell_type": "markdown",
   "metadata": {},
   "source": [
    "### Zadanie 3: Metoda siecznych"
   ]
  },
  {
   "cell_type": "markdown",
   "metadata": {},
   "source": [
    "Napisz funkcję realizującą metodę siecznych w oparciu o arytmetykę o zmiennej precyzji (`mpmath.mpf`). Funkcja powinna stosować te same kryteria stopu co funkcja realizująca metodę Newtona. Przetestuj działanie metody dla funkcji podanych na początku instrukcji. Porównaj zbieżność metody ze zbieżnością uzyskaną dla metody bisekcji oraz metody Newtona."
   ]
  },
  {
   "cell_type": "code",
   "execution_count": 37,
   "metadata": {},
   "outputs": [],
   "source": [
    "def secant(function, min_precision, val_from, val_to, epsilon, max_iterations):\n",
    "    mp.dps = min_precision\n",
    "    \n",
    "    prev_x = val_from\n",
    "    x = val_to\n",
    "    \n",
    "    iterations = 0\n",
    "    \n",
    "    while True:\n",
    "        if abs(x - prev_x) <= epsilon:\n",
    "            return x, fx, iterations\n",
    "        \n",
    "        iterations += 1\n",
    "        \n",
    "        fx = function(x)\n",
    "        fprevx = function(prev_x)\n",
    "        \n",
    "        if (fx - fprevx) == 0:\n",
    "            print('Denominator equals 0')\n",
    "            return None\n",
    "        \n",
    "        next_x = (fx * prev_x - fprevx * x) / (fx - fprevx)\n",
    "        \n",
    "        prev_x = x\n",
    "        x = next_x\n",
    "        \n",
    "        if iterations > max_iterations:\n",
    "            print('Max iterations exceeded')\n",
    "            return None "
   ]
  },
  {
   "cell_type": "code",
   "execution_count": 38,
   "metadata": {},
   "outputs": [
    {
     "name": "stdout",
     "output_type": "stream",
     "text": [
      "Secant method for function 1 with epsilon: 0.0000000999999999999999954748111825886259:\n",
      "x: 4.730041, y: -9.164214e-7, iterations: 6\n",
      "\n",
      "Secant method for function 1 with epsilon: 1.0e-15:\n",
      "x: 4.7300407448627, y: -1.53210777398272e-14, iterations: 7\n",
      "\n",
      "Secant method for function 1 with epsilon: 1.0e-33:\n",
      "x: 4.73004074486270402602404810083388, y: -4.33334237487128066937595037081609e-33, iterations: 9\n",
      "\n"
     ]
    },
    {
     "data": {
      "image/png": "[encoded data removed]",
      "text/plain": [
       "<Figure size 432x288 with 1 Axes>"
      ]
     },
     "metadata": {
      "needs_background": "light"
     },
     "output_type": "display_data"
    },
    {
     "name": "stdout",
     "output_type": "stream",
     "text": [
      "Secant method for function 2 with epsilon: 0.0000000999999999999999954748111825886259:\n",
      "x: 0.001, y: 999.999, iterations: 2\n",
      "\n",
      "Secant method for function 2 with epsilon: 1.0e-15:\n",
      "x: 0.001, y: 999.998999999667, iterations: 2\n",
      "\n",
      "Secant method for function 2 with epsilon: 1.0e-33:\n",
      "x: 0.860333589019379762483893424137662, y: 1.92592994438723585305597794258493e-34, iterations: 24\n",
      "\n"
     ]
    },
    {
     "data": {
      "image/png": "[encoded data removed]",
      "text/plain": [
       "<Figure size 432x288 with 1 Axes>"
      ]
     },
     "metadata": {
      "needs_background": "light"
     },
     "output_type": "display_data"
    },
    {
     "name": "stdout",
     "output_type": "stream",
     "text": [
      "Secant method for function 3 with epsilon: 0.0000000999999999999999954748111825886259:\n",
      "x: 1.829384, y: 0.0, iterations: 10\n",
      "\n",
      "Secant method for function 3 with epsilon: 1.0e-15:\n",
      "x: 1.82938360193385, y: -8.88178419700125e-16, iterations: 11\n",
      "\n",
      "Secant method for function 3 with epsilon: 1.0e-33:\n",
      "x: 1.82938360193384881713621294681415, y: 0.0, iterations: 13\n",
      "\n"
     ]
    },
    {
     "data": {
      "image/png": "[encoded data removed]",
      "text/plain": [
       "<Figure size 432x288 with 1 Axes>"
      ]
     },
     "metadata": {
      "needs_background": "light"
     },
     "output_type": "display_data"
    }
   ],
   "source": [
    "functions = [\n",
    "    (f1, mpf(3 / 2 * pi), mpf(2 * pi), 3, 5), \n",
    "    (f2, mpf(0.001), mpf(pi / 2), 0.7, 1.1), \n",
    "    (f3, mpf(1), mpf(3), 1.25, 2.5)\n",
    "]\n",
    "\n",
    "epsilons = [\n",
    "    (7, mpf(1e-7)), \n",
    "    (15, mpf(1e-15)), \n",
    "    (33, mpf(1e-33))\n",
    "]\n",
    "\n",
    "for idx, data in enumerate(functions):\n",
    "    function, val_from, val_to, plot_x_from, plot_x_to = data\n",
    "    \n",
    "    for idx_2, data in enumerate(epsilons):\n",
    "        precission, epsilon = data\n",
    "        print(f'Secant method for function {idx + 1} with epsilon: {epsilon}:')\n",
    "        \n",
    "        result = secant(function, precission, val_from, val_to, epsilon, 200)\n",
    "        \n",
    "        if result == None:\n",
    "            print('Solution not found\\n')\n",
    "            continue\n",
    "        \n",
    "        x, y, iterations = result\n",
    "        \n",
    "        print(f'x: {x}, y: {y}, iterations: {iterations}\\n')\n",
    "        \n",
    "        if idx_2 == 2:\n",
    "            show_function_diagram(function, plot_x_from, plot_x_to, [(x, y)])"
   ]
  },
  {
   "cell_type": "markdown",
   "metadata": {},
   "source": [
    "#### Porównanie zbieżności metod: bisekcji, Newtona i siecznych:"
   ]
  },
  {
   "cell_type": "markdown",
   "metadata": {},
   "source": [
    "Porównanie dla wyników metod dla funkcji $f_1$ (w nawiasach podana liczba iteracji):\n",
    "\n",
    "* 7 miejsc znaczących:\n",
    "  * metoda bisekcji:  4.730041 (24)\n",
    "  * metoda newtona:   4.730041 (4)\n",
    "  * metoda siecznych: 4.730041 (6)\n",
    "\n",
    "\n",
    "* 15 miejsc znaczących:\n",
    "  * metoda bisekcji:  4.7300407448627 (51)\n",
    "  * metoda newtona:   4.7300407448627 (5)\n",
    "  * metoda siecznych: 4.7300407448627 (7)\n",
    "  \n",
    "  \n",
    "* 33 miejsca znaczące:\n",
    "  * metoda bisekcji:  4.73004074486270402602404810083388 (111)\n",
    "  * metoda newtona:   4.73004074486270402602404810083388 (6)\n",
    "  * metoda siecznych: 4.73004074486270402602404810083388 (9)\n",
    "  \n",
    "\n",
    "Porównujac wyniki dla wszystkich sprawdzanych dokładności, widać, że wszystkie metody dają identyczne wyniki. Widzimy również, że zarówno metoda Newtona jak i siecznych wymagają o wiele mniejszej ilości iteracji w porównaniu do metody bisekcji, aby otrzymać żądany wynik."
   ]
  },
  {
   "cell_type": "code",
   "execution_count": null,
   "metadata": {},
   "outputs": [],
   "source": []
  }
 ],
 "metadata": {
  "kernelspec": {
   "display_name": "Python 3",
   "language": "python",
   "name": "python3"
  },
  "language_info": {
   "codemirror_mode": {
    "name": "ipython",
    "version": 3
   },
   "file_extension": ".py",
   "mimetype": "text/x-python",
   "name": "python",
   "nbconvert_exporter": "python",
   "pygments_lexer": "ipython3",
   "version": "3.7.5"
  }
 },
 "nbformat": 4,
 "nbformat_minor": 4
}
